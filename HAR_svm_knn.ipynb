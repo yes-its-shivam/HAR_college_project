{
 "cells": [
  {
   "cell_type": "code",
   "execution_count": 4,
   "id": "720ac1c9",
   "metadata": {},
   "outputs": [],
   "source": [
    "import pandas as pd\n",
    "import numpy as np\n",
    "import math\n",
    "import seaborn as sns\n",
    "import matplotlib.pyplot as plt\n",
    "import tensorflow as tf\n",
    "from sklearn.preprocessing import LabelEncoder, StandardScaler\n",
    "from sklearn.model_selection import train_test_split\n",
    "from keras.layers.recurrent import LSTM\n",
    "from sklearn.metrics import accuracy_score\n",
    "from sklearn.neighbors import KNeighborsClassifier\n",
    "from sklearn.tree import DecisionTreeClassifier\n",
    "from sklearn.svm import SVC\n"
   ]
  },
  {
   "cell_type": "code",
   "execution_count": 5,
   "id": "3a94275e",
   "metadata": {},
   "outputs": [],
   "source": [
    "#pip install tensorflow --upgrade --user"
   ]
  },
  {
   "cell_type": "code",
   "execution_count": 6,
   "id": "cb8c4150",
   "metadata": {},
   "outputs": [],
   "source": [
    "#pip install tensorflow-hub"
   ]
  },
  {
   "cell_type": "code",
   "execution_count": 7,
   "id": "de00c9f9",
   "metadata": {},
   "outputs": [],
   "source": [
    "from tensorflow import keras\n",
    "from tensorflow.keras import layers\n",
    "from tensorflow.keras.layers import Dense, Flatten,Conv2D, MaxPooling2D, Dropout, BatchNormalization, TimeDistributed\n",
    "from tensorflow.keras.models import Sequential\n",
    "from tensorflow.keras.optimizers import Adam"
   ]
  },
  {
   "cell_type": "code",
   "execution_count": 8,
   "id": "30378f6c",
   "metadata": {},
   "outputs": [
    {
     "name": "stderr",
     "output_type": "stream",
     "text": [
      "C:\\Users\\shiva\\anaconda3\\lib\\site-packages\\IPython\\core\\interactiveshell.py:3165: DtypeWarning: Columns (0) have mixed types.Specify dtype option on import or set low_memory=False.\n",
      "  has_raised = await self.run_ast_nodes(code_ast.body, cell_name,\n"
     ]
    }
   ],
   "source": [
    "\n",
    "data1 = pd.read_table('phoneaccel.txt',names=('Subject-id', 'Activity Label', 'Timestamp', 'x', 'y', 'z'),sep=',')\n",
    "data2 = pd.read_table('phonegyro.txt',names=('Subject-id', 'Activity Label', 'Timestamp', 'x', 'y', 'z'),sep=',')"
   ]
  },
  {
   "cell_type": "code",
   "execution_count": 9,
   "id": "ec7dab38",
   "metadata": {},
   "outputs": [
    {
     "data": {
      "text/plain": [
       "(6174062, 6)"
      ]
     },
     "execution_count": 9,
     "metadata": {},
     "output_type": "execute_result"
    }
   ],
   "source": [
    "#merging all dataframes\n",
    "frames = [data1,data2]\n",
    "data = pd.concat(frames)\n",
    "data.shape"
   ]
  },
  {
   "cell_type": "code",
   "execution_count": 10,
   "id": "d977f00f",
   "metadata": {},
   "outputs": [
    {
     "data": {
      "text/html": [
       "<div>\n",
       "<style scoped>\n",
       "    .dataframe tbody tr th:only-of-type {\n",
       "        vertical-align: middle;\n",
       "    }\n",
       "\n",
       "    .dataframe tbody tr th {\n",
       "        vertical-align: top;\n",
       "    }\n",
       "\n",
       "    .dataframe thead th {\n",
       "        text-align: right;\n",
       "    }\n",
       "</style>\n",
       "<table border=\"1\" class=\"dataframe\">\n",
       "  <thead>\n",
       "    <tr style=\"text-align: right;\">\n",
       "      <th></th>\n",
       "      <th>Subject-id</th>\n",
       "      <th>Activity Label</th>\n",
       "      <th>Timestamp</th>\n",
       "      <th>x</th>\n",
       "      <th>y</th>\n",
       "      <th>z</th>\n",
       "    </tr>\n",
       "  </thead>\n",
       "  <tbody>\n",
       "    <tr>\n",
       "      <th>0</th>\n",
       "      <td>1600</td>\n",
       "      <td>A</td>\n",
       "      <td>2.522077e+14</td>\n",
       "      <td>-0.364761</td>\n",
       "      <td>8.793503</td>\n",
       "      <td>1.0550842;</td>\n",
       "    </tr>\n",
       "    <tr>\n",
       "      <th>1</th>\n",
       "      <td>1600</td>\n",
       "      <td>A</td>\n",
       "      <td>2.522077e+14</td>\n",
       "      <td>-0.879730</td>\n",
       "      <td>9.768784</td>\n",
       "      <td>1.0169983;</td>\n",
       "    </tr>\n",
       "    <tr>\n",
       "      <th>2</th>\n",
       "      <td>1600</td>\n",
       "      <td>A</td>\n",
       "      <td>2.522078e+14</td>\n",
       "      <td>2.001495</td>\n",
       "      <td>11.109070</td>\n",
       "      <td>2.619156;</td>\n",
       "    </tr>\n",
       "    <tr>\n",
       "      <th>3</th>\n",
       "      <td>1600</td>\n",
       "      <td>A</td>\n",
       "      <td>2.522078e+14</td>\n",
       "      <td>0.450623</td>\n",
       "      <td>12.651642</td>\n",
       "      <td>0.18455505;</td>\n",
       "    </tr>\n",
       "    <tr>\n",
       "      <th>4</th>\n",
       "      <td>1600</td>\n",
       "      <td>A</td>\n",
       "      <td>2.522079e+14</td>\n",
       "      <td>-2.164352</td>\n",
       "      <td>13.928436</td>\n",
       "      <td>-4.4224854;</td>\n",
       "    </tr>\n",
       "  </tbody>\n",
       "</table>\n",
       "</div>"
      ],
      "text/plain": [
       "  Subject-id Activity Label     Timestamp         x          y            z\n",
       "0       1600              A  2.522077e+14 -0.364761   8.793503   1.0550842;\n",
       "1       1600              A  2.522077e+14 -0.879730   9.768784   1.0169983;\n",
       "2       1600              A  2.522078e+14  2.001495  11.109070    2.619156;\n",
       "3       1600              A  2.522078e+14  0.450623  12.651642  0.18455505;\n",
       "4       1600              A  2.522079e+14 -2.164352  13.928436  -4.4224854;"
      ]
     },
     "execution_count": 10,
     "metadata": {},
     "output_type": "execute_result"
    }
   ],
   "source": [
    "data.head()"
   ]
  },
  {
   "cell_type": "code",
   "execution_count": 11,
   "id": "ef5db202",
   "metadata": {},
   "outputs": [
    {
     "data": {
      "text/plain": [
       "Subject-id         object\n",
       "Activity Label     object\n",
       "Timestamp         float64\n",
       "x                 float64\n",
       "y                 float64\n",
       "z                 float64\n",
       "dtype: object"
      ]
     },
     "execution_count": 11,
     "metadata": {},
     "output_type": "execute_result"
    }
   ],
   "source": [
    "#since the datatype of column z is object because of ';', we will now remove the ';' and convert it to float datatype\n",
    "data['z']= data.z.str.replace(';','').astype('float')\n",
    "data.dtypes"
   ]
  },
  {
   "cell_type": "code",
   "execution_count": 12,
   "id": "93921fef",
   "metadata": {},
   "outputs": [],
   "source": [
    "#function to return lsit of columns\n",
    "def colname(df):\n",
    "    for col in df.columns:\n",
    "        print(col)"
   ]
  },
  {
   "cell_type": "code",
   "execution_count": 13,
   "id": "7be5e2ba",
   "metadata": {},
   "outputs": [
    {
     "name": "stdout",
     "output_type": "stream",
     "text": [
      "Subject-id\n",
      "Activity Label\n",
      "Timestamp\n",
      "x\n",
      "y\n",
      "z\n"
     ]
    }
   ],
   "source": [
    "colname(data)"
   ]
  },
  {
   "cell_type": "code",
   "execution_count": 14,
   "id": "71cadcdc",
   "metadata": {},
   "outputs": [],
   "source": [
    "#function to return basic eda\n",
    "def basic_eda(df):\n",
    "    print('==========================================ROW===============================================')\n",
    "    print(df.head())\n",
    "    print('==========================================ROW===============================================')\n",
    "    print(df.tail())\n",
    "    print('==========================================ROW===============================================')\n",
    "    print(df.info())\n",
    "    print('==========================================ROW===============================================')\n",
    "    print(df.dtypes)\n",
    "    print('==========================================ROW===============================================')\n",
    "    print(df.describe())\n",
    "    print('==========================================ROW===============================================')\n",
    "    print(df.isna().sum())\n",
    "    print('==========================================ROW===============================================')\n",
    "    print(df.isnull().sum())\n",
    "    print('==========================================ROW===============================================')\n",
    "    print(df.shape)"
   ]
  },
  {
   "cell_type": "code",
   "execution_count": 15,
   "id": "9d916999",
   "metadata": {},
   "outputs": [
    {
     "name": "stdout",
     "output_type": "stream",
     "text": [
      "==========================================ROW===============================================\n",
      "  Subject-id Activity Label     Timestamp         x          y         z\n",
      "0       1600              A  2.522077e+14 -0.364761   8.793503  1.055084\n",
      "1       1600              A  2.522077e+14 -0.879730   9.768784  1.016998\n",
      "2       1600              A  2.522078e+14  2.001495  11.109070  2.619156\n",
      "3       1600              A  2.522078e+14  0.450623  12.651642  0.184555\n",
      "4       1600              A  2.522079e+14 -2.164352  13.928436 -4.422485\n",
      "==========================================ROW===============================================\n",
      "        Subject-id Activity Label     Timestamp         x         y         z\n",
      "1369653       1619              P  1.739443e+14 -0.282295 -0.335558 -0.039415\n",
      "1369654       1619              P  1.739443e+14 -0.524110 -0.634898 -0.059655\n",
      "1369655       1619              P  1.739443e+14 -0.532632 -0.763795  0.103331\n",
      "1369656       1619              P  1.739444e+14 -0.255663 -0.641289  0.286556\n",
      "1369657       1619              P  1.739444e+14 -0.067112 -0.438889  0.250000\n",
      "==========================================ROW===============================================\n",
      "<class 'pandas.core.frame.DataFrame'>\n",
      "Int64Index: 6174062 entries, 0 to 1369657\n",
      "Data columns (total 6 columns):\n",
      " #   Column          Dtype  \n",
      "---  ------          -----  \n",
      " 0   Subject-id      object \n",
      " 1   Activity Label  object \n",
      " 2   Timestamp       float64\n",
      " 3   x               float64\n",
      " 4   y               float64\n",
      " 5   z               float64\n",
      "dtypes: float64(4), object(2)\n",
      "memory usage: 329.7+ MB\n",
      "None\n",
      "==========================================ROW===============================================\n",
      "Subject-id         object\n",
      "Activity Label     object\n",
      "Timestamp         float64\n",
      "x                 float64\n",
      "y                 float64\n",
      "z                 float64\n",
      "dtype: object\n",
      "==========================================ROW===============================================\n",
      "          Timestamp             x             y             z\n",
      "count  6.174061e+06  6.174061e+06  6.174061e+06  6.174061e+06\n",
      "mean   4.958084e+14  1.093746e-01 -1.312999e+00  2.711384e-01\n",
      "std    5.054468e+14  5.174552e+00  6.131144e+00  4.533251e+00\n",
      "min    2.681027e+11 -7.847761e+01 -7.847761e+01 -7.847761e+01\n",
      "25%    1.106919e+14 -2.465429e+00 -5.381180e+00 -1.920806e+00\n",
      "50%    2.671079e+14 -1.296997e-03 -4.287085e-01 -1.617432e-03\n",
      "75%    7.088577e+14  3.185593e+00  9.768475e-01  2.474407e+00\n",
      "max    1.819803e+15  7.847761e+01  6.441166e+01  6.908195e+01\n",
      "==========================================ROW===============================================\n",
      "Subject-id        0\n",
      "Activity Label    1\n",
      "Timestamp         1\n",
      "x                 1\n",
      "y                 1\n",
      "z                 1\n",
      "dtype: int64\n",
      "==========================================ROW===============================================\n",
      "Subject-id        0\n",
      "Activity Label    1\n",
      "Timestamp         1\n",
      "x                 1\n",
      "y                 1\n",
      "z                 1\n",
      "dtype: int64\n",
      "==========================================ROW===============================================\n",
      "(6174062, 6)\n"
     ]
    }
   ],
   "source": [
    "basic_eda(data)"
   ]
  },
  {
   "cell_type": "code",
   "execution_count": 16,
   "id": "0dc0f0c8",
   "metadata": {},
   "outputs": [
    {
     "data": {
      "text/plain": [
       "Subject-id        0\n",
       "Activity Label    0\n",
       "Timestamp         0\n",
       "x                 0\n",
       "y                 0\n",
       "z                 0\n",
       "dtype: int64"
      ]
     },
     "execution_count": 16,
     "metadata": {},
     "output_type": "execute_result"
    }
   ],
   "source": [
    "#from above eda plot we can see there are 3 null and 3 na values in the respective columns\n",
    "#now we will remove the na values\n",
    "data = data.fillna(0,axis=1)\n",
    "data.isna().sum()"
   ]
  },
  {
   "cell_type": "code",
   "execution_count": 17,
   "id": "8ab93920",
   "metadata": {},
   "outputs": [
    {
     "data": {
      "text/plain": [
       "K    363211\n",
       "A    359406\n",
       "M    357054\n",
       "H    348785\n",
       "G    347619\n",
       "E    347610\n",
       "O    346657\n",
       "P    346623\n",
       "L    343800\n",
       "D    342609\n",
       "R    341563\n",
       "I    339372\n",
       "B    339284\n",
       "S    338711\n",
       "Q    333992\n",
       "C    333655\n",
       "J    323312\n",
       "F    320798\n",
       "0         1\n",
       "Name: Activity Label, dtype: int64"
      ]
     },
     "execution_count": 17,
     "metadata": {},
     "output_type": "execute_result"
    }
   ],
   "source": [
    "data['Activity Label'].value_counts()"
   ]
  },
  {
   "cell_type": "code",
   "execution_count": 18,
   "id": "60d05528",
   "metadata": {},
   "outputs": [],
   "source": [
    "#dictionary of actual activites\n",
    "labels = { 'A':'walking' ,'B':'jogging' ,'C':'stairs', 'D':'sitting','E':'standing','F':'typing', 'G':'brushing teeth', 'H':'drinking soup', 'I':'eating chips','J':'eating pasta','K':'drinking', 'L':'eating sandwich', 'M':'kicking','O':'catch','P':'dribbling','Q':'writing','R':'clapping','S':'folding','0':'not recognisable'}"
   ]
  },
  {
   "cell_type": "code",
   "execution_count": 19,
   "id": "41a8a752",
   "metadata": {},
   "outputs": [
    {
     "data": {
      "text/plain": [
       "K    363211\n",
       "A    359406\n",
       "M    357054\n",
       "H    348785\n",
       "G    347619\n",
       "E    347610\n",
       "O    346657\n",
       "P    346623\n",
       "L    343800\n",
       "D    342609\n",
       "R    341563\n",
       "I    339372\n",
       "B    339284\n",
       "S    338711\n",
       "Q    333992\n",
       "C    333655\n",
       "J    323312\n",
       "F    320798\n",
       "0         1\n",
       "Name: Activity Label, dtype: int64"
      ]
     },
     "execution_count": 19,
     "metadata": {},
     "output_type": "execute_result"
    }
   ],
   "source": [
    "data['Activity Label'].value_counts()"
   ]
  },
  {
   "cell_type": "code",
   "execution_count": 20,
   "id": "ab8fa879",
   "metadata": {},
   "outputs": [
    {
     "data": {
      "text/html": [
       "<div>\n",
       "<style scoped>\n",
       "    .dataframe tbody tr th:only-of-type {\n",
       "        vertical-align: middle;\n",
       "    }\n",
       "\n",
       "    .dataframe tbody tr th {\n",
       "        vertical-align: top;\n",
       "    }\n",
       "\n",
       "    .dataframe thead th {\n",
       "        text-align: right;\n",
       "    }\n",
       "</style>\n",
       "<table border=\"1\" class=\"dataframe\">\n",
       "  <thead>\n",
       "    <tr style=\"text-align: right;\">\n",
       "      <th></th>\n",
       "      <th>Subject-id</th>\n",
       "      <th>Activity Label</th>\n",
       "      <th>Timestamp</th>\n",
       "      <th>x</th>\n",
       "      <th>y</th>\n",
       "      <th>z</th>\n",
       "    </tr>\n",
       "  </thead>\n",
       "  <tbody>\n",
       "    <tr>\n",
       "      <th>0</th>\n",
       "      <td>1600</td>\n",
       "      <td>walking</td>\n",
       "      <td>2.522077e+14</td>\n",
       "      <td>-0.364761</td>\n",
       "      <td>8.793503</td>\n",
       "      <td>1.055084</td>\n",
       "    </tr>\n",
       "    <tr>\n",
       "      <th>1</th>\n",
       "      <td>1600</td>\n",
       "      <td>walking</td>\n",
       "      <td>2.522077e+14</td>\n",
       "      <td>-0.879730</td>\n",
       "      <td>9.768784</td>\n",
       "      <td>1.016998</td>\n",
       "    </tr>\n",
       "    <tr>\n",
       "      <th>2</th>\n",
       "      <td>1600</td>\n",
       "      <td>walking</td>\n",
       "      <td>2.522078e+14</td>\n",
       "      <td>2.001495</td>\n",
       "      <td>11.109070</td>\n",
       "      <td>2.619156</td>\n",
       "    </tr>\n",
       "    <tr>\n",
       "      <th>3</th>\n",
       "      <td>1600</td>\n",
       "      <td>walking</td>\n",
       "      <td>2.522078e+14</td>\n",
       "      <td>0.450623</td>\n",
       "      <td>12.651642</td>\n",
       "      <td>0.184555</td>\n",
       "    </tr>\n",
       "    <tr>\n",
       "      <th>4</th>\n",
       "      <td>1600</td>\n",
       "      <td>walking</td>\n",
       "      <td>2.522079e+14</td>\n",
       "      <td>-2.164352</td>\n",
       "      <td>13.928436</td>\n",
       "      <td>-4.422485</td>\n",
       "    </tr>\n",
       "  </tbody>\n",
       "</table>\n",
       "</div>"
      ],
      "text/plain": [
       "  Subject-id Activity Label     Timestamp         x          y         z\n",
       "0       1600        walking  2.522077e+14 -0.364761   8.793503  1.055084\n",
       "1       1600        walking  2.522077e+14 -0.879730   9.768784  1.016998\n",
       "2       1600        walking  2.522078e+14  2.001495  11.109070  2.619156\n",
       "3       1600        walking  2.522078e+14  0.450623  12.651642  0.184555\n",
       "4       1600        walking  2.522079e+14 -2.164352  13.928436 -4.422485"
      ]
     },
     "execution_count": 20,
     "metadata": {},
     "output_type": "execute_result"
    }
   ],
   "source": [
    "#replacing pseudo activity labels with actual activity labels\n",
    "data = data.replace({'Activity Label': labels})\n",
    "data.head()"
   ]
  },
  {
   "cell_type": "code",
   "execution_count": 21,
   "id": "0aa40773",
   "metadata": {},
   "outputs": [
    {
     "data": {
      "text/plain": [
       "Index([       'drinking',         'walking',         'kicking',\n",
       "         'drinking soup',  'brushing teeth',        'standing',\n",
       "                 'catch',       'dribbling', 'eating sandwich',\n",
       "               'sitting',        'clapping',    'eating chips',\n",
       "               'jogging',         'folding',         'writing',\n",
       "                'stairs',    'eating pasta',          'typing',\n",
       "                       0],\n",
       "      dtype='object')"
      ]
     },
     "execution_count": 21,
     "metadata": {},
     "output_type": "execute_result"
    }
   ],
   "source": [
    "activities = data['Activity Label'].value_counts().index\n",
    "activities"
   ]
  },
  {
   "cell_type": "code",
   "execution_count": 22,
   "id": "d7889783",
   "metadata": {},
   "outputs": [
    {
     "data": {
      "text/html": [
       "<div>\n",
       "<style scoped>\n",
       "    .dataframe tbody tr th:only-of-type {\n",
       "        vertical-align: middle;\n",
       "    }\n",
       "\n",
       "    .dataframe tbody tr th {\n",
       "        vertical-align: top;\n",
       "    }\n",
       "\n",
       "    .dataframe thead th {\n",
       "        text-align: right;\n",
       "    }\n",
       "</style>\n",
       "<table border=\"1\" class=\"dataframe\">\n",
       "  <thead>\n",
       "    <tr style=\"text-align: right;\">\n",
       "      <th></th>\n",
       "      <th>Subject-id</th>\n",
       "      <th>Activity Label</th>\n",
       "      <th>Timestamp</th>\n",
       "      <th>x</th>\n",
       "      <th>y</th>\n",
       "      <th>z</th>\n",
       "    </tr>\n",
       "  </thead>\n",
       "  <tbody>\n",
       "    <tr>\n",
       "      <th>4804403</th>\n",
       "      <td>\u001a</td>\n",
       "      <td>0</td>\n",
       "      <td>0.0</td>\n",
       "      <td>0.0</td>\n",
       "      <td>0.0</td>\n",
       "      <td>0.0</td>\n",
       "    </tr>\n",
       "  </tbody>\n",
       "</table>\n",
       "</div>"
      ],
      "text/plain": [
       "        Subject-id Activity Label  Timestamp    x    y    z\n",
       "4804403          \u001a              0        0.0  0.0  0.0  0.0"
      ]
     },
     "execution_count": 22,
     "metadata": {},
     "output_type": "execute_result"
    }
   ],
   "source": [
    "#since activity label has just once value as 0 \n",
    "#to remove it lets find the index number of the specific row\n",
    "data.loc[data['Activity Label']== 0]"
   ]
  },
  {
   "cell_type": "code",
   "execution_count": 23,
   "id": "98cc8290",
   "metadata": {},
   "outputs": [],
   "source": [
    "#row number is 4804403 and now we will drop it\n",
    "data = data.drop(4804403)"
   ]
  },
  {
   "cell_type": "code",
   "execution_count": 24,
   "id": "4d2946c5",
   "metadata": {},
   "outputs": [
    {
     "data": {
      "text/html": [
       "<div>\n",
       "<style scoped>\n",
       "    .dataframe tbody tr th:only-of-type {\n",
       "        vertical-align: middle;\n",
       "    }\n",
       "\n",
       "    .dataframe tbody tr th {\n",
       "        vertical-align: top;\n",
       "    }\n",
       "\n",
       "    .dataframe thead th {\n",
       "        text-align: right;\n",
       "    }\n",
       "</style>\n",
       "<table border=\"1\" class=\"dataframe\">\n",
       "  <thead>\n",
       "    <tr style=\"text-align: right;\">\n",
       "      <th></th>\n",
       "      <th>Timestamp</th>\n",
       "      <th>x</th>\n",
       "      <th>y</th>\n",
       "      <th>z</th>\n",
       "    </tr>\n",
       "  </thead>\n",
       "  <tbody>\n",
       "    <tr>\n",
       "      <th>Timestamp</th>\n",
       "      <td>1.000000</td>\n",
       "      <td>0.013351</td>\n",
       "      <td>-0.154436</td>\n",
       "      <td>-0.111103</td>\n",
       "    </tr>\n",
       "    <tr>\n",
       "      <th>x</th>\n",
       "      <td>0.013351</td>\n",
       "      <td>1.000000</td>\n",
       "      <td>0.025044</td>\n",
       "      <td>-0.111638</td>\n",
       "    </tr>\n",
       "    <tr>\n",
       "      <th>y</th>\n",
       "      <td>-0.154436</td>\n",
       "      <td>0.025044</td>\n",
       "      <td>1.000000</td>\n",
       "      <td>0.113206</td>\n",
       "    </tr>\n",
       "    <tr>\n",
       "      <th>z</th>\n",
       "      <td>-0.111103</td>\n",
       "      <td>-0.111638</td>\n",
       "      <td>0.113206</td>\n",
       "      <td>1.000000</td>\n",
       "    </tr>\n",
       "  </tbody>\n",
       "</table>\n",
       "</div>"
      ],
      "text/plain": [
       "           Timestamp         x         y         z\n",
       "Timestamp   1.000000  0.013351 -0.154436 -0.111103\n",
       "x           0.013351  1.000000  0.025044 -0.111638\n",
       "y          -0.154436  0.025044  1.000000  0.113206\n",
       "z          -0.111103 -0.111638  0.113206  1.000000"
      ]
     },
     "execution_count": 24,
     "metadata": {},
     "output_type": "execute_result"
    }
   ],
   "source": [
    "corr = data.corr()\n",
    "corr"
   ]
  },
  {
   "cell_type": "code",
   "execution_count": 25,
   "id": "567a56f7",
   "metadata": {},
   "outputs": [
    {
     "data": {
      "text/html": [
       "<div>\n",
       "<style scoped>\n",
       "    .dataframe tbody tr th:only-of-type {\n",
       "        vertical-align: middle;\n",
       "    }\n",
       "\n",
       "    .dataframe tbody tr th {\n",
       "        vertical-align: top;\n",
       "    }\n",
       "\n",
       "    .dataframe thead th {\n",
       "        text-align: right;\n",
       "    }\n",
       "</style>\n",
       "<table border=\"1\" class=\"dataframe\">\n",
       "  <thead>\n",
       "    <tr style=\"text-align: right;\">\n",
       "      <th></th>\n",
       "      <th>Subject-id</th>\n",
       "      <th>Activity Label</th>\n",
       "      <th>Timestamp</th>\n",
       "      <th>x</th>\n",
       "      <th>y</th>\n",
       "      <th>z</th>\n",
       "    </tr>\n",
       "  </thead>\n",
       "  <tbody>\n",
       "    <tr>\n",
       "      <th>0</th>\n",
       "      <td>1600</td>\n",
       "      <td>walking</td>\n",
       "      <td>2.522077e+14</td>\n",
       "      <td>-0.364761</td>\n",
       "      <td>8.793503</td>\n",
       "      <td>1.055084</td>\n",
       "    </tr>\n",
       "    <tr>\n",
       "      <th>1</th>\n",
       "      <td>1600</td>\n",
       "      <td>walking</td>\n",
       "      <td>2.522077e+14</td>\n",
       "      <td>-0.879730</td>\n",
       "      <td>9.768784</td>\n",
       "      <td>1.016998</td>\n",
       "    </tr>\n",
       "    <tr>\n",
       "      <th>2</th>\n",
       "      <td>1600</td>\n",
       "      <td>walking</td>\n",
       "      <td>2.522078e+14</td>\n",
       "      <td>2.001495</td>\n",
       "      <td>11.109070</td>\n",
       "      <td>2.619156</td>\n",
       "    </tr>\n",
       "    <tr>\n",
       "      <th>3</th>\n",
       "      <td>1600</td>\n",
       "      <td>walking</td>\n",
       "      <td>2.522078e+14</td>\n",
       "      <td>0.450623</td>\n",
       "      <td>12.651642</td>\n",
       "      <td>0.184555</td>\n",
       "    </tr>\n",
       "    <tr>\n",
       "      <th>4</th>\n",
       "      <td>1600</td>\n",
       "      <td>walking</td>\n",
       "      <td>2.522079e+14</td>\n",
       "      <td>-2.164352</td>\n",
       "      <td>13.928436</td>\n",
       "      <td>-4.422485</td>\n",
       "    </tr>\n",
       "    <tr>\n",
       "      <th>...</th>\n",
       "      <td>...</td>\n",
       "      <td>...</td>\n",
       "      <td>...</td>\n",
       "      <td>...</td>\n",
       "      <td>...</td>\n",
       "      <td>...</td>\n",
       "    </tr>\n",
       "    <tr>\n",
       "      <th>1369653</th>\n",
       "      <td>1619</td>\n",
       "      <td>dribbling</td>\n",
       "      <td>1.739443e+14</td>\n",
       "      <td>-0.282295</td>\n",
       "      <td>-0.335558</td>\n",
       "      <td>-0.039415</td>\n",
       "    </tr>\n",
       "    <tr>\n",
       "      <th>1369654</th>\n",
       "      <td>1619</td>\n",
       "      <td>dribbling</td>\n",
       "      <td>1.739443e+14</td>\n",
       "      <td>-0.524110</td>\n",
       "      <td>-0.634898</td>\n",
       "      <td>-0.059655</td>\n",
       "    </tr>\n",
       "    <tr>\n",
       "      <th>1369655</th>\n",
       "      <td>1619</td>\n",
       "      <td>dribbling</td>\n",
       "      <td>1.739443e+14</td>\n",
       "      <td>-0.532632</td>\n",
       "      <td>-0.763795</td>\n",
       "      <td>0.103331</td>\n",
       "    </tr>\n",
       "    <tr>\n",
       "      <th>1369656</th>\n",
       "      <td>1619</td>\n",
       "      <td>dribbling</td>\n",
       "      <td>1.739444e+14</td>\n",
       "      <td>-0.255663</td>\n",
       "      <td>-0.641289</td>\n",
       "      <td>0.286556</td>\n",
       "    </tr>\n",
       "    <tr>\n",
       "      <th>1369657</th>\n",
       "      <td>1619</td>\n",
       "      <td>dribbling</td>\n",
       "      <td>1.739444e+14</td>\n",
       "      <td>-0.067112</td>\n",
       "      <td>-0.438889</td>\n",
       "      <td>0.250000</td>\n",
       "    </tr>\n",
       "  </tbody>\n",
       "</table>\n",
       "<p>6174061 rows × 6 columns</p>\n",
       "</div>"
      ],
      "text/plain": [
       "        Subject-id Activity Label     Timestamp         x          y         z\n",
       "0             1600        walking  2.522077e+14 -0.364761   8.793503  1.055084\n",
       "1             1600        walking  2.522077e+14 -0.879730   9.768784  1.016998\n",
       "2             1600        walking  2.522078e+14  2.001495  11.109070  2.619156\n",
       "3             1600        walking  2.522078e+14  0.450623  12.651642  0.184555\n",
       "4             1600        walking  2.522079e+14 -2.164352  13.928436 -4.422485\n",
       "...            ...            ...           ...       ...        ...       ...\n",
       "1369653       1619      dribbling  1.739443e+14 -0.282295  -0.335558 -0.039415\n",
       "1369654       1619      dribbling  1.739443e+14 -0.524110  -0.634898 -0.059655\n",
       "1369655       1619      dribbling  1.739443e+14 -0.532632  -0.763795  0.103331\n",
       "1369656       1619      dribbling  1.739444e+14 -0.255663  -0.641289  0.286556\n",
       "1369657       1619      dribbling  1.739444e+14 -0.067112  -0.438889  0.250000\n",
       "\n",
       "[6174061 rows x 6 columns]"
      ]
     },
     "execution_count": 25,
     "metadata": {},
     "output_type": "execute_result"
    }
   ],
   "source": [
    "data"
   ]
  },
  {
   "cell_type": "markdown",
   "id": "2130a116",
   "metadata": {},
   "source": [
    "## Data Balancing"
   ]
  },
  {
   "cell_type": "code",
   "execution_count": 26,
   "id": "4d5d78e0",
   "metadata": {},
   "outputs": [
    {
     "data": {
      "text/plain": [
       "array(['walking', 'jogging', 'stairs', 'sitting', 'standing', 'typing',\n",
       "       'brushing teeth', 'drinking soup', 'eating chips', 'eating pasta',\n",
       "       'drinking', 'eating sandwich', 'kicking', 'catch', 'dribbling',\n",
       "       'writing', 'clapping', 'folding'], dtype=object)"
      ]
     },
     "execution_count": 26,
     "metadata": {},
     "output_type": "execute_result"
    }
   ],
   "source": [
    "data['Activity Label'].unique()"
   ]
  },
  {
   "cell_type": "code",
   "execution_count": 27,
   "id": "de352354",
   "metadata": {},
   "outputs": [
    {
     "data": {
      "text/plain": [
       "64298"
      ]
     },
     "execution_count": 27,
     "metadata": {},
     "output_type": "execute_result"
    }
   ],
   "source": [
    "data['Subject-id'].value_counts().min()"
   ]
  },
  {
   "cell_type": "code",
   "execution_count": 28,
   "id": "a8de8d1b",
   "metadata": {},
   "outputs": [
    {
     "data": {
      "text/plain": [
       "1614    247195\n",
       "1603    163040\n",
       "1613    162884\n",
       "1601    162650\n",
       "1605    162462\n",
       "1641    160798\n",
       "1646    160792\n",
       "1648    160791\n",
       "1645    160783\n",
       "1608    160772\n",
       "1644    160771\n",
       "1627    155101\n",
       "1616    154571\n",
       "1607    153391\n",
       "1643    151834\n",
       "1602    149176\n",
       "1610    145114\n",
       "1619    145004\n",
       "1642    142929\n",
       "1629    139346\n",
       "1635    128852\n",
       "1615    128563\n",
       "1611    128561\n",
       "1600    128558\n",
       "1612    128558\n",
       "1606    128558\n",
       "1604    128557\n",
       "1617    128551\n",
       "1609    122285\n",
       "1618    121453\n",
       "1625    114850\n",
       "1620    111026\n",
       "1628    108362\n",
       "1623     91143\n",
       "1633     85955\n",
       "1650     85811\n",
       "1649     81975\n",
       "1647     81887\n",
       "1621     81688\n",
       "1626     75034\n",
       "1650     74968\n",
       "1640     64845\n",
       "1639     64840\n",
       "1638     64830\n",
       "1637     64801\n",
       "1631     64315\n",
       "1634     64309\n",
       "1636     64308\n",
       "1622     64308\n",
       "1632     64306\n",
       "1624     64302\n",
       "1630     64298\n",
       "Name: Subject-id, dtype: int64"
      ]
     },
     "execution_count": 28,
     "metadata": {},
     "output_type": "execute_result"
    }
   ],
   "source": [
    "data['Subject-id'].value_counts()"
   ]
  },
  {
   "cell_type": "code",
   "execution_count": 29,
   "id": "3b9ffef0",
   "metadata": {},
   "outputs": [
    {
     "data": {
      "text/plain": [
       "array([1600, 1601, 1602, 1603, 1604, 1605, 1606, 1607, 1608, 1609, 1610,\n",
       "       1611, 1612, 1613, 1614, 1615, 1616, 1617, 1618, 1619, 1620, 1621,\n",
       "       1622, 1623, 1624, 1625, 1626, 1627, 1628, 1629, 1630, 1631, 1632,\n",
       "       1633, 1634, 1635, 1636, 1637, 1638, 1639, 1640, 1641, 1642, 1643,\n",
       "       1644, 1645, 1646, 1647, 1648, 1649, 1650, '1650'], dtype=object)"
      ]
     },
     "execution_count": 29,
     "metadata": {},
     "output_type": "execute_result"
    }
   ],
   "source": [
    "data['Subject-id'].unique()"
   ]
  },
  {
   "cell_type": "code",
   "execution_count": 30,
   "id": "4dca3798",
   "metadata": {},
   "outputs": [],
   "source": [
    "a = data[data['Subject-id']== 1600].head(64298).copy()\n",
    "b = data[data['Subject-id']== 1601].head(64298).copy()\n",
    "c = data[data['Subject-id']== 1602].head(64298).copy()\n",
    "d = data[data['Subject-id']== 1603].head(64298).copy()\n",
    "e = data[data['Subject-id']== 1604].head(64298).copy()\n",
    "f = data[data['Subject-id']== 1605].head(64298).copy()\n",
    "g = data[data['Subject-id']== 1606].head(64298).copy()\n",
    "h = data[data['Subject-id']== 1607].head(64298).copy()\n",
    "i = data[data['Subject-id']== 1608].head(64298).copy()\n",
    "j = data[data['Subject-id']== 1609].head(64298).copy()\n",
    "k = data[data['Subject-id']== 1610].head(64298).copy()\n",
    "l = data[data['Subject-id']== 1611].head(64298).copy()\n",
    "m = data[data['Subject-id']== 1612].head(64298).copy()\n",
    "n = data[data['Subject-id']== 1613].head(64298).copy()\n",
    "o = data[data['Subject-id']== 1614].head(64298).copy()\n",
    "p = data[data['Subject-id']== 1615].head(64298).copy()\n",
    "q = data[data['Subject-id']== 1616].head(64298).copy()\n",
    "r = data[data['Subject-id']== 1617].head(64298).copy()\n",
    "s = data[data['Subject-id']== 1618].head(64298).copy()\n",
    "t = data[data['Subject-id']== 1619].head(64298).copy()\n",
    "u = data[data['Subject-id']== 1620].head(64298).copy()\n",
    "v = data[data['Subject-id']== 1621].head(64298).copy()\n",
    "w = data[data['Subject-id']== 1622].head(64298).copy()\n",
    "x = data[data['Subject-id']== 1623].head(64298).copy()\n",
    "y = data[data['Subject-id']== 1624].head(64298).copy()\n",
    "z = data[data['Subject-id']== 1625].head(64298).copy()\n",
    "aa = data[data['Subject-id']== 1626].head(64298).copy()\n",
    "bb = data[data['Subject-id']== 1627].head(64298).copy()\n",
    "cc = data[data['Subject-id']== 1628].head(64298).copy()\n",
    "dd = data[data['Subject-id']== 1629].head(64298).copy()\n",
    "ee = data[data['Subject-id']== 1630].head(64298).copy()\n",
    "ff = data[data['Subject-id']== 1631].head(64298).copy()\n",
    "gg = data[data['Subject-id']== 1632].head(64298).copy()\n",
    "hh = data[data['Subject-id']== 1633].head(64298).copy()\n",
    "ii = data[data['Subject-id']== 1634].head(64298).copy()\n",
    "jj = data[data['Subject-id']== 1635].head(64298).copy()\n",
    "kk = data[data['Subject-id']== 1636].head(64298).copy()\n",
    "ll = data[data['Subject-id']== 1637].head(64298).copy()\n",
    "mm = data[data['Subject-id']== 1638].head(64298).copy()\n",
    "nn = data[data['Subject-id']== 1639].head(64298).copy()\n",
    "oo = data[data['Subject-id']== 1640].head(64298).copy()\n",
    "pp = data[data['Subject-id']== 1641].head(64298).copy()\n",
    "qq = data[data['Subject-id']== 1642].head(64298).copy()\n",
    "rr = data[data['Subject-id']== 1643].head(64298).copy()\n",
    "ss = data[data['Subject-id']== 1644].head(64298).copy()\n",
    "tt = data[data['Subject-id']== 1645].head(64298).copy()\n",
    "uu = data[data['Subject-id']== 1646].head(64298).copy()\n",
    "vv = data[data['Subject-id']== 1647].head(64298).copy()\n",
    "ww = data[data['Subject-id']== 1648].head(64298).copy()\n",
    "xx = data[data['Subject-id']== 1649].head(64298).copy()\n",
    "yy = data[data['Subject-id']== 1650].head(64298).copy()\n",
    "zz = data[data['Subject-id']== '1650'].head(64298).copy()"
   ]
  },
  {
   "cell_type": "code",
   "execution_count": 31,
   "id": "e87d3d4d",
   "metadata": {},
   "outputs": [],
   "source": [
    "ddata = pd.DataFrame()"
   ]
  },
  {
   "cell_type": "code",
   "execution_count": 32,
   "id": "3f46b233",
   "metadata": {},
   "outputs": [],
   "source": [
    "ddata = ddata.append([a,b,c,d,e,f,g,h,i,j,k,l,m,n,o,p,q,r,s,t,u,v,w,x,y,z,aa,bb,cc,dd,ee,ff,gg,hh,ii,jj,kk,ll,mm,nn,oo,pp,qq,rr,ss,tt,uu,vv,ww,xx,yy,zz]) "
   ]
  },
  {
   "cell_type": "code",
   "execution_count": 33,
   "id": "b6817971",
   "metadata": {},
   "outputs": [],
   "source": [
    "ddata['Subject-id'] = ddata['Subject-id'].replace({'1650': 1651})"
   ]
  },
  {
   "cell_type": "code",
   "execution_count": 34,
   "id": "27fb8925",
   "metadata": {},
   "outputs": [
    {
     "data": {
      "text/plain": [
       "array([1600, 1601, 1602, 1603, 1604, 1605, 1606, 1607, 1608, 1609, 1610,\n",
       "       1611, 1612, 1613, 1614, 1615, 1616, 1617, 1618, 1619, 1620, 1621,\n",
       "       1622, 1623, 1624, 1625, 1626, 1627, 1628, 1629, 1630, 1631, 1632,\n",
       "       1633, 1634, 1635, 1636, 1637, 1638, 1639, 1640, 1641, 1642, 1643,\n",
       "       1644, 1645, 1646, 1647, 1648, 1649, 1650, 1651], dtype=int64)"
      ]
     },
     "execution_count": 34,
     "metadata": {},
     "output_type": "execute_result"
    }
   ],
   "source": [
    "ddata['Subject-id'].unique()"
   ]
  },
  {
   "cell_type": "code",
   "execution_count": 35,
   "id": "cb1d3203",
   "metadata": {},
   "outputs": [
    {
     "data": {
      "text/plain": [
       "(3343496, 6)"
      ]
     },
     "execution_count": 35,
     "metadata": {},
     "output_type": "execute_result"
    }
   ],
   "source": [
    "ddata.shape"
   ]
  },
  {
   "cell_type": "code",
   "execution_count": 36,
   "id": "3b517c6c",
   "metadata": {},
   "outputs": [
    {
     "data": {
      "text/plain": [
       "array(['walking', 'jogging', 'stairs', 'sitting', 'standing', 'typing',\n",
       "       'brushing teeth', 'drinking soup', 'eating chips', 'eating pasta',\n",
       "       'drinking', 'eating sandwich', 'kicking', 'catch', 'dribbling',\n",
       "       'writing', 'clapping', 'folding'], dtype=object)"
      ]
     },
     "execution_count": 36,
     "metadata": {},
     "output_type": "execute_result"
    }
   ],
   "source": [
    "ddata['Activity Label'].unique()"
   ]
  },
  {
   "cell_type": "code",
   "execution_count": 37,
   "id": "38061a12",
   "metadata": {},
   "outputs": [
    {
     "data": {
      "text/plain": [
       "walking            282739\n",
       "brushing teeth     266036\n",
       "standing           266031\n",
       "jogging            264836\n",
       "sitting            261020\n",
       "stairs             252072\n",
       "typing             242784\n",
       "drinking soup      206861\n",
       "eating chips       185418\n",
       "drinking           171299\n",
       "kicking            162058\n",
       "eating pasta       160273\n",
       "eating sandwich    158681\n",
       "catch              137690\n",
       "dribbling          101533\n",
       "writing             81555\n",
       "clapping            73332\n",
       "folding             69278\n",
       "Name: Activity Label, dtype: int64"
      ]
     },
     "execution_count": 37,
     "metadata": {},
     "output_type": "execute_result"
    }
   ],
   "source": [
    "ddata['Activity Label'].value_counts()"
   ]
  },
  {
   "cell_type": "code",
   "execution_count": 38,
   "id": "1fe3ce42",
   "metadata": {},
   "outputs": [],
   "source": [
    "drinking = ddata[ddata['Activity Label']== 'drinking'].head(69278).copy()\n",
    "walking = ddata[ddata['Activity Label']== 'walking'].head(69278).copy()\n",
    "kicking = ddata[ddata['Activity Label']== 'kicking'].head(69278).copy()\n",
    "drinking_soup = ddata[ddata['Activity Label']== 'drinking soup'].head(69278).copy()\n",
    "brushing_teeth = ddata[ddata['Activity Label']== 'brushing teeth'].head(69278).copy()\n",
    "standing = ddata[ddata['Activity Label']== 'standing'].head(69278).copy()\n",
    "catch = ddata[ddata['Activity Label']== 'catch'].head(69278).copy()\n",
    "dribbling = ddata[ddata['Activity Label']== 'dribbling'].head(69278).copy()\n",
    "eating_sandwich = ddata[ddata['Activity Label']== 'eating sandwich'].head(69278).copy()\n",
    "sitting = ddata[ddata['Activity Label']== 'sitting'].head(69278).copy()\n",
    "clapping = ddata[ddata['Activity Label']== 'clapping'].head(69278).copy()\n",
    "eating_chips = ddata[ddata['Activity Label']== 'eating chips'].head(69278).copy()\n",
    "jogging = ddata[ddata['Activity Label']== 'jogging'].head(69278).copy()\n",
    "folding = ddata[ddata['Activity Label']== 'folding'].head(69278).copy()\n",
    "writing = ddata[ddata['Activity Label']== 'writing'].head(69278).copy()\n",
    "stairs = ddata[ddata['Activity Label']== 'stairs'].head(69278).copy()\n",
    "eating_pasta = ddata[ddata['Activity Label']== 'eating pasta'].head(69278).copy()\n",
    "typing = ddata[ddata['Activity Label']== 'typing'].head(69278).copy()"
   ]
  },
  {
   "cell_type": "code",
   "execution_count": 39,
   "id": "f1c45ab9",
   "metadata": {},
   "outputs": [],
   "source": [
    "bdata = pd.DataFrame()"
   ]
  },
  {
   "cell_type": "code",
   "execution_count": 40,
   "id": "0a2a8627",
   "metadata": {},
   "outputs": [],
   "source": [
    "bdata = bdata.append([walking ,jogging ,stairs,sitting,standing,typing,brushing_teeth,drinking_soup,eating_chips,eating_pasta,drinking,eating_sandwich,kicking,catch,dribbling,writing,clapping,folding]) "
   ]
  },
  {
   "cell_type": "code",
   "execution_count": 41,
   "id": "d138ed9f",
   "metadata": {},
   "outputs": [
    {
     "data": {
      "text/plain": [
       "(1247004, 6)"
      ]
     },
     "execution_count": 41,
     "metadata": {},
     "output_type": "execute_result"
    }
   ],
   "source": [
    "bdata.shape"
   ]
  },
  {
   "cell_type": "code",
   "execution_count": 42,
   "id": "7fda1255",
   "metadata": {},
   "outputs": [
    {
     "data": {
      "text/html": [
       "<div>\n",
       "<style scoped>\n",
       "    .dataframe tbody tr th:only-of-type {\n",
       "        vertical-align: middle;\n",
       "    }\n",
       "\n",
       "    .dataframe tbody tr th {\n",
       "        vertical-align: top;\n",
       "    }\n",
       "\n",
       "    .dataframe thead th {\n",
       "        text-align: right;\n",
       "    }\n",
       "</style>\n",
       "<table border=\"1\" class=\"dataframe\">\n",
       "  <thead>\n",
       "    <tr style=\"text-align: right;\">\n",
       "      <th></th>\n",
       "      <th>Subject-id</th>\n",
       "      <th>Activity Label</th>\n",
       "      <th>Timestamp</th>\n",
       "      <th>x</th>\n",
       "      <th>y</th>\n",
       "      <th>z</th>\n",
       "    </tr>\n",
       "  </thead>\n",
       "  <tbody>\n",
       "    <tr>\n",
       "      <th>0</th>\n",
       "      <td>1600</td>\n",
       "      <td>walking</td>\n",
       "      <td>2.522077e+14</td>\n",
       "      <td>-0.364761</td>\n",
       "      <td>8.793503</td>\n",
       "      <td>1.055084</td>\n",
       "    </tr>\n",
       "    <tr>\n",
       "      <th>1</th>\n",
       "      <td>1600</td>\n",
       "      <td>walking</td>\n",
       "      <td>2.522077e+14</td>\n",
       "      <td>-0.879730</td>\n",
       "      <td>9.768784</td>\n",
       "      <td>1.016998</td>\n",
       "    </tr>\n",
       "    <tr>\n",
       "      <th>2</th>\n",
       "      <td>1600</td>\n",
       "      <td>walking</td>\n",
       "      <td>2.522078e+14</td>\n",
       "      <td>2.001495</td>\n",
       "      <td>11.109070</td>\n",
       "      <td>2.619156</td>\n",
       "    </tr>\n",
       "    <tr>\n",
       "      <th>3</th>\n",
       "      <td>1600</td>\n",
       "      <td>walking</td>\n",
       "      <td>2.522078e+14</td>\n",
       "      <td>0.450623</td>\n",
       "      <td>12.651642</td>\n",
       "      <td>0.184555</td>\n",
       "    </tr>\n",
       "    <tr>\n",
       "      <th>4</th>\n",
       "      <td>1600</td>\n",
       "      <td>walking</td>\n",
       "      <td>2.522079e+14</td>\n",
       "      <td>-2.164352</td>\n",
       "      <td>13.928436</td>\n",
       "      <td>-4.422485</td>\n",
       "    </tr>\n",
       "    <tr>\n",
       "      <th>...</th>\n",
       "      <td>...</td>\n",
       "      <td>...</td>\n",
       "      <td>...</td>\n",
       "      <td>...</td>\n",
       "      <td>...</td>\n",
       "      <td>...</td>\n",
       "    </tr>\n",
       "    <tr>\n",
       "      <th>3380512</th>\n",
       "      <td>1640</td>\n",
       "      <td>folding</td>\n",
       "      <td>1.705722e+14</td>\n",
       "      <td>3.679439</td>\n",
       "      <td>-9.209895</td>\n",
       "      <td>-4.233397</td>\n",
       "    </tr>\n",
       "    <tr>\n",
       "      <th>3380513</th>\n",
       "      <td>1640</td>\n",
       "      <td>folding</td>\n",
       "      <td>1.705723e+14</td>\n",
       "      <td>4.108001</td>\n",
       "      <td>-9.133281</td>\n",
       "      <td>-3.814412</td>\n",
       "    </tr>\n",
       "    <tr>\n",
       "      <th>3380514</th>\n",
       "      <td>1640</td>\n",
       "      <td>folding</td>\n",
       "      <td>1.705723e+14</td>\n",
       "      <td>4.220529</td>\n",
       "      <td>-8.513183</td>\n",
       "      <td>-3.539079</td>\n",
       "    </tr>\n",
       "    <tr>\n",
       "      <th>3380515</th>\n",
       "      <td>1640</td>\n",
       "      <td>folding</td>\n",
       "      <td>1.705724e+14</td>\n",
       "      <td>3.732111</td>\n",
       "      <td>-7.641693</td>\n",
       "      <td>-3.136853</td>\n",
       "    </tr>\n",
       "    <tr>\n",
       "      <th>3380516</th>\n",
       "      <td>1640</td>\n",
       "      <td>folding</td>\n",
       "      <td>1.705724e+14</td>\n",
       "      <td>3.511845</td>\n",
       "      <td>-7.579444</td>\n",
       "      <td>-3.103334</td>\n",
       "    </tr>\n",
       "  </tbody>\n",
       "</table>\n",
       "<p>1247004 rows × 6 columns</p>\n",
       "</div>"
      ],
      "text/plain": [
       "         Subject-id Activity Label     Timestamp         x          y  \\\n",
       "0              1600        walking  2.522077e+14 -0.364761   8.793503   \n",
       "1              1600        walking  2.522077e+14 -0.879730   9.768784   \n",
       "2              1600        walking  2.522078e+14  2.001495  11.109070   \n",
       "3              1600        walking  2.522078e+14  0.450623  12.651642   \n",
       "4              1600        walking  2.522079e+14 -2.164352  13.928436   \n",
       "...             ...            ...           ...       ...        ...   \n",
       "3380512        1640        folding  1.705722e+14  3.679439  -9.209895   \n",
       "3380513        1640        folding  1.705723e+14  4.108001  -9.133281   \n",
       "3380514        1640        folding  1.705723e+14  4.220529  -8.513183   \n",
       "3380515        1640        folding  1.705724e+14  3.732111  -7.641693   \n",
       "3380516        1640        folding  1.705724e+14  3.511845  -7.579444   \n",
       "\n",
       "                z  \n",
       "0        1.055084  \n",
       "1        1.016998  \n",
       "2        2.619156  \n",
       "3        0.184555  \n",
       "4       -4.422485  \n",
       "...           ...  \n",
       "3380512 -4.233397  \n",
       "3380513 -3.814412  \n",
       "3380514 -3.539079  \n",
       "3380515 -3.136853  \n",
       "3380516 -3.103334  \n",
       "\n",
       "[1247004 rows x 6 columns]"
      ]
     },
     "execution_count": 42,
     "metadata": {},
     "output_type": "execute_result"
    }
   ],
   "source": [
    "bdata"
   ]
  },
  {
   "cell_type": "code",
   "execution_count": 43,
   "id": "3690d465",
   "metadata": {},
   "outputs": [],
   "source": [
    "#plot frequnecy\n",
    "# Fs= 20 #since the data is recorded at frequnecy of 200Hz\n",
    "# def plot_axis(ax, x, y, title):\n",
    "#     ax.plot(x, y,'g')\n",
    "#     ax.set_title(title)\n",
    "#     ax.xaxis.set_visible(False)\n",
    "#     ax.set_ylim([min(y) - np.std(y), max(y) + np.std(y)])\n",
    "#     ax.set_xlim([min(x), max(x)])\n",
    "#     ax.grid(True)\n",
    "\n",
    "# def plot_activity(activity,bdata):\n",
    "#     fig, (ax0, ax1, ax2) = plt.subplots(nrows = 3, figsize = (15, 7), sharex = True)\n",
    "#     plot_axis(ax0, bdata['Timestamp'], bdata['x'], 'x')\n",
    "#     plot_axis(ax1, bdata['Timestamp'], bdata['y'], 'y')\n",
    "#     plot_axis(ax2, bdata['Timestamp'], bdata['z'], 'z')\n",
    "#     plt.subplots_adjust(hspace=0.2)\n",
    "#     fig.suptitle(activity)\n",
    "#     plt.subplots_adjust(top=0.90)\n",
    "#     plt.show()\n",
    "\n",
    "# for activity in activities:\n",
    "#     data_for_plot = bdata[(bdata['Activity Label'] == activity)][:Fs*10]\n",
    "#     plot_activity(activity,data_for_plot)"
   ]
  },
  {
   "cell_type": "code",
   "execution_count": 44,
   "id": "5490728a",
   "metadata": {},
   "outputs": [
    {
     "data": {
      "text/html": [
       "<div>\n",
       "<style scoped>\n",
       "    .dataframe tbody tr th:only-of-type {\n",
       "        vertical-align: middle;\n",
       "    }\n",
       "\n",
       "    .dataframe tbody tr th {\n",
       "        vertical-align: top;\n",
       "    }\n",
       "\n",
       "    .dataframe thead th {\n",
       "        text-align: right;\n",
       "    }\n",
       "</style>\n",
       "<table border=\"1\" class=\"dataframe\">\n",
       "  <thead>\n",
       "    <tr style=\"text-align: right;\">\n",
       "      <th></th>\n",
       "      <th>Activity Label</th>\n",
       "      <th>Timestamp</th>\n",
       "      <th>x</th>\n",
       "      <th>y</th>\n",
       "      <th>z</th>\n",
       "    </tr>\n",
       "  </thead>\n",
       "  <tbody>\n",
       "    <tr>\n",
       "      <th>0</th>\n",
       "      <td>walking</td>\n",
       "      <td>2.522077e+14</td>\n",
       "      <td>-0.364761</td>\n",
       "      <td>8.793503</td>\n",
       "      <td>1.055084</td>\n",
       "    </tr>\n",
       "    <tr>\n",
       "      <th>1</th>\n",
       "      <td>walking</td>\n",
       "      <td>2.522077e+14</td>\n",
       "      <td>-0.879730</td>\n",
       "      <td>9.768784</td>\n",
       "      <td>1.016998</td>\n",
       "    </tr>\n",
       "    <tr>\n",
       "      <th>2</th>\n",
       "      <td>walking</td>\n",
       "      <td>2.522078e+14</td>\n",
       "      <td>2.001495</td>\n",
       "      <td>11.109070</td>\n",
       "      <td>2.619156</td>\n",
       "    </tr>\n",
       "    <tr>\n",
       "      <th>3</th>\n",
       "      <td>walking</td>\n",
       "      <td>2.522078e+14</td>\n",
       "      <td>0.450623</td>\n",
       "      <td>12.651642</td>\n",
       "      <td>0.184555</td>\n",
       "    </tr>\n",
       "    <tr>\n",
       "      <th>4</th>\n",
       "      <td>walking</td>\n",
       "      <td>2.522079e+14</td>\n",
       "      <td>-2.164352</td>\n",
       "      <td>13.928436</td>\n",
       "      <td>-4.422485</td>\n",
       "    </tr>\n",
       "  </tbody>\n",
       "</table>\n",
       "</div>"
      ],
      "text/plain": [
       "  Activity Label     Timestamp         x          y         z\n",
       "0        walking  2.522077e+14 -0.364761   8.793503  1.055084\n",
       "1        walking  2.522077e+14 -0.879730   9.768784  1.016998\n",
       "2        walking  2.522078e+14  2.001495  11.109070  2.619156\n",
       "3        walking  2.522078e+14  0.450623  12.651642  0.184555\n",
       "4        walking  2.522079e+14 -2.164352  13.928436 -4.422485"
      ]
     },
     "execution_count": 44,
     "metadata": {},
     "output_type": "execute_result"
    }
   ],
   "source": [
    "#dropping the redundant columns\n",
    "bdata = bdata.drop(['Subject-id'] , axis=1)\n",
    "bdata.head()"
   ]
  },
  {
   "cell_type": "code",
   "execution_count": 45,
   "id": "e05b4f22",
   "metadata": {},
   "outputs": [
    {
     "data": {
      "text/plain": [
       "(1247004, 5)"
      ]
     },
     "execution_count": 45,
     "metadata": {},
     "output_type": "execute_result"
    }
   ],
   "source": [
    "bdata.shape"
   ]
  },
  {
   "cell_type": "code",
   "execution_count": 46,
   "id": "e8054279",
   "metadata": {},
   "outputs": [
    {
     "data": {
      "text/html": [
       "<div>\n",
       "<style scoped>\n",
       "    .dataframe tbody tr th:only-of-type {\n",
       "        vertical-align: middle;\n",
       "    }\n",
       "\n",
       "    .dataframe tbody tr th {\n",
       "        vertical-align: top;\n",
       "    }\n",
       "\n",
       "    .dataframe thead th {\n",
       "        text-align: right;\n",
       "    }\n",
       "</style>\n",
       "<table border=\"1\" class=\"dataframe\">\n",
       "  <thead>\n",
       "    <tr style=\"text-align: right;\">\n",
       "      <th></th>\n",
       "      <th>Activity Label</th>\n",
       "      <th>Timestamp</th>\n",
       "      <th>x</th>\n",
       "      <th>y</th>\n",
       "      <th>z</th>\n",
       "      <th>Elabel</th>\n",
       "    </tr>\n",
       "  </thead>\n",
       "  <tbody>\n",
       "    <tr>\n",
       "      <th>0</th>\n",
       "      <td>walking</td>\n",
       "      <td>2.522077e+14</td>\n",
       "      <td>-0.364761</td>\n",
       "      <td>8.793503</td>\n",
       "      <td>1.055084</td>\n",
       "      <td>16</td>\n",
       "    </tr>\n",
       "    <tr>\n",
       "      <th>1</th>\n",
       "      <td>walking</td>\n",
       "      <td>2.522077e+14</td>\n",
       "      <td>-0.879730</td>\n",
       "      <td>9.768784</td>\n",
       "      <td>1.016998</td>\n",
       "      <td>16</td>\n",
       "    </tr>\n",
       "    <tr>\n",
       "      <th>2</th>\n",
       "      <td>walking</td>\n",
       "      <td>2.522078e+14</td>\n",
       "      <td>2.001495</td>\n",
       "      <td>11.109070</td>\n",
       "      <td>2.619156</td>\n",
       "      <td>16</td>\n",
       "    </tr>\n",
       "    <tr>\n",
       "      <th>3</th>\n",
       "      <td>walking</td>\n",
       "      <td>2.522078e+14</td>\n",
       "      <td>0.450623</td>\n",
       "      <td>12.651642</td>\n",
       "      <td>0.184555</td>\n",
       "      <td>16</td>\n",
       "    </tr>\n",
       "    <tr>\n",
       "      <th>4</th>\n",
       "      <td>walking</td>\n",
       "      <td>2.522079e+14</td>\n",
       "      <td>-2.164352</td>\n",
       "      <td>13.928436</td>\n",
       "      <td>-4.422485</td>\n",
       "      <td>16</td>\n",
       "    </tr>\n",
       "  </tbody>\n",
       "</table>\n",
       "</div>"
      ],
      "text/plain": [
       "  Activity Label     Timestamp         x          y         z  Elabel\n",
       "0        walking  2.522077e+14 -0.364761   8.793503  1.055084      16\n",
       "1        walking  2.522077e+14 -0.879730   9.768784  1.016998      16\n",
       "2        walking  2.522078e+14  2.001495  11.109070  2.619156      16\n",
       "3        walking  2.522078e+14  0.450623  12.651642  0.184555      16\n",
       "4        walking  2.522079e+14 -2.164352  13.928436 -4.422485      16"
      ]
     },
     "execution_count": 46,
     "metadata": {},
     "output_type": "execute_result"
    }
   ],
   "source": [
    "#activity label is of categorical type\n",
    "#now we will use label encoder to encode this data\n",
    "#labels are given to activity in alphabetical order\n",
    "label = LabelEncoder()\n",
    "bdata['Elabel'] = label.fit_transform(bdata['Activity Label'])\n",
    "bdata.head()"
   ]
  },
  {
   "cell_type": "code",
   "execution_count": 47,
   "id": "b562bfcf",
   "metadata": {},
   "outputs": [
    {
     "data": {
      "text/plain": [
       "array(['brushing teeth', 'catch', 'clapping', 'dribbling', 'drinking',\n",
       "       'drinking soup', 'eating chips', 'eating pasta', 'eating sandwich',\n",
       "       'folding', 'jogging', 'kicking', 'sitting', 'stairs', 'standing',\n",
       "       'typing', 'walking', 'writing'], dtype=object)"
      ]
     },
     "execution_count": 47,
     "metadata": {},
     "output_type": "execute_result"
    }
   ],
   "source": [
    "label.classes_"
   ]
  },
  {
   "cell_type": "markdown",
   "id": "c0810830",
   "metadata": {},
   "source": [
    "### standardization of data"
   ]
  },
  {
   "cell_type": "code",
   "execution_count": 54,
   "id": "7853dda6",
   "metadata": {},
   "outputs": [
    {
     "data": {
      "text/plain": [
       "(                x          y         z\n",
       " 0       -0.364761   8.793503  1.055084\n",
       " 1       -0.879730   9.768784  1.016998\n",
       " 2        2.001495  11.109070  2.619156\n",
       " 3        0.450623  12.651642  0.184555\n",
       " 4       -2.164352  13.928436 -4.422485\n",
       " ...           ...        ...       ...\n",
       " 3380512  3.679439  -9.209895 -4.233397\n",
       " 3380513  4.108001  -9.133281 -3.814412\n",
       " 3380514  4.220529  -8.513183 -3.539079\n",
       " 3380515  3.732111  -7.641693 -3.136853\n",
       " 3380516  3.511845  -7.579444 -3.103334\n",
       " \n",
       " [1247004 rows x 3 columns],\n",
       " 0          16\n",
       " 1          16\n",
       " 2          16\n",
       " 3          16\n",
       " 4          16\n",
       "            ..\n",
       " 3380512     9\n",
       " 3380513     9\n",
       " 3380514     9\n",
       " 3380515     9\n",
       " 3380516     9\n",
       " Name: Elabel, Length: 1247004, dtype: int32)"
      ]
     },
     "execution_count": 54,
     "metadata": {},
     "output_type": "execute_result"
    }
   ],
   "source": [
    "x = bdata[['x','y','z']]\n",
    "y = bdata['Elabel']\n",
    "x,y"
   ]
  },
  {
   "cell_type": "code",
   "execution_count": 64,
   "id": "cba0aba6",
   "metadata": {},
   "outputs": [
    {
     "data": {
      "text/html": [
       "<div>\n",
       "<style scoped>\n",
       "    .dataframe tbody tr th:only-of-type {\n",
       "        vertical-align: middle;\n",
       "    }\n",
       "\n",
       "    .dataframe tbody tr th {\n",
       "        vertical-align: top;\n",
       "    }\n",
       "\n",
       "    .dataframe thead th {\n",
       "        text-align: right;\n",
       "    }\n",
       "</style>\n",
       "<table border=\"1\" class=\"dataframe\">\n",
       "  <thead>\n",
       "    <tr style=\"text-align: right;\">\n",
       "      <th></th>\n",
       "      <th>x</th>\n",
       "      <th>y</th>\n",
       "      <th>z</th>\n",
       "    </tr>\n",
       "  </thead>\n",
       "  <tbody>\n",
       "    <tr>\n",
       "      <th>0</th>\n",
       "      <td>-0.191700</td>\n",
       "      <td>1.100036</td>\n",
       "      <td>-0.160677</td>\n",
       "    </tr>\n",
       "    <tr>\n",
       "      <th>1</th>\n",
       "      <td>-0.286219</td>\n",
       "      <td>1.238546</td>\n",
       "      <td>-0.168645</td>\n",
       "    </tr>\n",
       "    <tr>\n",
       "      <th>2</th>\n",
       "      <td>0.242611</td>\n",
       "      <td>1.428894</td>\n",
       "      <td>0.166572</td>\n",
       "    </tr>\n",
       "    <tr>\n",
       "      <th>3</th>\n",
       "      <td>-0.042041</td>\n",
       "      <td>1.647971</td>\n",
       "      <td>-0.342816</td>\n",
       "    </tr>\n",
       "    <tr>\n",
       "      <th>4</th>\n",
       "      <td>-0.522003</td>\n",
       "      <td>1.829302</td>\n",
       "      <td>-1.306742</td>\n",
       "    </tr>\n",
       "  </tbody>\n",
       "</table>\n",
       "</div>"
      ],
      "text/plain": [
       "          x         y         z\n",
       "0 -0.191700  1.100036 -0.160677\n",
       "1 -0.286219  1.238546 -0.168645\n",
       "2  0.242611  1.428894  0.166572\n",
       "3 -0.042041  1.647971 -0.342816\n",
       "4 -0.522003  1.829302 -1.306742"
      ]
     },
     "execution_count": 64,
     "metadata": {},
     "output_type": "execute_result"
    }
   ],
   "source": [
    "scaler = StandardScaler()\n",
    "x= scaler.fit_transform(x)\n",
    "scaled_x = pd.DataFrame(data=x, columns = ['x','y','z'])\n",
    "scaled_x.head()"
   ]
  },
  {
   "cell_type": "code",
   "execution_count": 95,
   "id": "8e873267",
   "metadata": {},
   "outputs": [],
   "source": [
    "y= y.to_numpy()"
   ]
  },
  {
   "cell_type": "code",
   "execution_count": 133,
   "id": "5244b8aa",
   "metadata": {},
   "outputs": [],
   "source": [
    "y = y.reshape(-1,)"
   ]
  },
  {
   "cell_type": "code",
   "execution_count": 134,
   "id": "94b5d312",
   "metadata": {},
   "outputs": [
    {
     "data": {
      "text/plain": [
       "(1247004,)"
      ]
     },
     "execution_count": 134,
     "metadata": {},
     "output_type": "execute_result"
    }
   ],
   "source": [
    "y.shape"
   ]
  },
  {
   "cell_type": "code",
   "execution_count": 131,
   "id": "37656003",
   "metadata": {},
   "outputs": [],
   "source": [
    "Ys = scaler.fit_transform(y)"
   ]
  },
  {
   "cell_type": "code",
   "execution_count": 132,
   "id": "1044e0f5",
   "metadata": {},
   "outputs": [
    {
     "data": {
      "text/plain": [
       "((1247004, 3), (1247004, 1))"
      ]
     },
     "execution_count": 132,
     "metadata": {},
     "output_type": "execute_result"
    }
   ],
   "source": [
    "scaled_x.shape, Ys.shape"
   ]
  },
  {
   "cell_type": "code",
   "execution_count": 118,
   "id": "3862b1eb",
   "metadata": {},
   "outputs": [],
   "source": [
    "from sklearn.model_selection import train_test_split"
   ]
  },
  {
   "cell_type": "code",
   "execution_count": 136,
   "id": "6bf06557",
   "metadata": {},
   "outputs": [],
   "source": [
    "trainX, testX, trainy, testy = train_test_split(scaled_x, y, test_size=0.33, random_state=42)"
   ]
  },
  {
   "cell_type": "code",
   "execution_count": 137,
   "id": "5828b2c8",
   "metadata": {},
   "outputs": [],
   "source": [
    "def define_models(models=dict()):\n",
    "    models['knn'] = KNeighborsClassifier(n_neighbors=7)\n",
    "    models['cart'] = DecisionTreeClassifier()\n",
    "    models['svm'] = SVC()\n",
    "    print('Defined %d models' % len(models))\n",
    "    return models"
   ]
  },
  {
   "cell_type": "code",
   "execution_count": 141,
   "id": "cfb1767f",
   "metadata": {},
   "outputs": [],
   "source": [
    "def evaluate_models(trainX, trainy, testX, testy, models):\n",
    "    results = dict()\n",
    "    for name, model in models.items():\n",
    "        # evaluate the model\n",
    "        results[name] = evaluate_model(trainX, trainy, testX, testy, model)\n",
    "    return results"
   ]
  },
  {
   "cell_type": "code",
   "execution_count": null,
   "id": "ba9469ef",
   "metadata": {},
   "outputs": [
    {
     "name": "stdout",
     "output_type": "stream",
     "text": [
      "Defined 3 models\n"
     ]
    }
   ],
   "source": [
    "models = define_models()\n",
    "results = evaluate_models(trainX, trainy, testX, testy, models)"
   ]
  },
  {
   "cell_type": "code",
   "execution_count": null,
   "id": "639c212d",
   "metadata": {},
   "outputs": [],
   "source": []
  }
 ],
 "metadata": {
  "kernelspec": {
   "display_name": "Python 3",
   "language": "python",
   "name": "python3"
  },
  "language_info": {
   "codemirror_mode": {
    "name": "ipython",
    "version": 3
   },
   "file_extension": ".py",
   "mimetype": "text/x-python",
   "name": "python",
   "nbconvert_exporter": "python",
   "pygments_lexer": "ipython3",
   "version": "3.8.8"
  }
 },
 "nbformat": 4,
 "nbformat_minor": 5
}
