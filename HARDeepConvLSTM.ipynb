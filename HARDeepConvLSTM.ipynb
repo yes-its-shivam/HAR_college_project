{
 "cells": [
  {
   "cell_type": "markdown",
   "metadata": {},
   "source": [
    "### Setup"
   ]
  },
  {
   "cell_type": "code",
   "execution_count": 163,
   "metadata": {},
   "outputs": [],
   "source": [
    "import warnings\n",
    "warnings.filterwarnings('ignore')\n",
    "\n",
    "import pandas as pd\n",
    "import numpy as np\n",
    "import _pickle as cp\n",
    "import matplotlib.pyplot as plt\n",
    "import pandas as pd\n",
    "import sklearn.metrics as metrics\n",
    "\n",
    "import torch\n",
    "from torch import nn\n",
    "from torch.nn import Module\n",
    "import torch.nn.functional as F\n",
    "\n",
    "NB_SENSOR_CHANNELS = 113\n",
    "SLIDING_WINDOW_LENGTH = 24\n",
    "SLIDING_WINDOW_STEP = 12"
   ]
  },
  {
   "cell_type": "code",
   "execution_count": null,
   "metadata": {},
   "outputs": [],
   "source": [
    "#pip install data"
   ]
  },
  {
   "cell_type": "code",
   "execution_count": 126,
   "metadata": {},
   "outputs": [],
   "source": [
    "import os\n",
    "import sys"
   ]
  },
  {
   "cell_type": "markdown",
   "metadata": {},
   "source": [
    "## Load in Data"
   ]
  },
  {
   "cell_type": "code",
   "execution_count": 127,
   "metadata": {},
   "outputs": [],
   "source": [
    "data1 = pd.read_table('phoneaccel.txt',names=('Subject-id', 'Activity Label', 'Timestamp', 'x', 'y', 'z'),sep=',')\n",
    "data2 = pd.read_table('phonegyro.txt',names=('Subject-id', 'Activity Label', 'Timestamp', 'x', 'y', 'z'),sep=',')"
   ]
  },
  {
   "cell_type": "code",
   "execution_count": 128,
   "metadata": {},
   "outputs": [
    {
     "data": {
      "text/plain": [
       "(6174062, 6)"
      ]
     },
     "execution_count": 128,
     "metadata": {},
     "output_type": "execute_result"
    }
   ],
   "source": [
    "#merging all dataframes\n",
    "frames = [data1,data2]\n",
    "data = pd.concat(frames)\n",
    "data.shape"
   ]
  },
  {
   "cell_type": "code",
   "execution_count": 129,
   "metadata": {},
   "outputs": [
    {
     "data": {
      "text/plain": [
       "Subject-id         object\n",
       "Activity Label     object\n",
       "Timestamp         float64\n",
       "x                 float64\n",
       "y                 float64\n",
       "z                 float64\n",
       "dtype: object"
      ]
     },
     "execution_count": 129,
     "metadata": {},
     "output_type": "execute_result"
    }
   ],
   "source": [
    "#since the datatype of column z is object because of ';', we will now remove the ';' and convert it to float datatype\n",
    "data['z']= data.z.str.replace(';','').astype('float')\n",
    "data.dtypes"
   ]
  },
  {
   "cell_type": "code",
   "execution_count": 130,
   "metadata": {},
   "outputs": [],
   "source": [
    "data.columns = data.columns.str.strip()"
   ]
  },
  {
   "cell_type": "code",
   "execution_count": 131,
   "metadata": {},
   "outputs": [],
   "source": [
    "#function to return lsit of columns\n",
    "def colname(df):\n",
    "    for col in df.columns:\n",
    "        print(col)"
   ]
  },
  {
   "cell_type": "code",
   "execution_count": 132,
   "metadata": {},
   "outputs": [
    {
     "name": "stdout",
     "output_type": "stream",
     "text": [
      "Subject-id\n",
      "Activity Label\n",
      "Timestamp\n",
      "x\n",
      "y\n",
      "z\n"
     ]
    }
   ],
   "source": [
    "colname(data)"
   ]
  },
  {
   "cell_type": "code",
   "execution_count": 133,
   "metadata": {},
   "outputs": [],
   "source": [
    "#dictionary of actual activites\n",
    "labels = { 'A':'walking' ,'B':'jogging' ,'C':'stairs', 'D':'sitting','E':'standing','F':'typing', 'G':'brushing teeth', 'H':'drinking soup', 'I':'eating chips','J':'eating pasta','K':'drinking', 'L':'eating sandwich', 'M':'kicking','O':'catch','P':'dribbling','Q':'writing','R':'clapping','S':'folding','0':'not recognisable'}"
   ]
  },
  {
   "cell_type": "code",
   "execution_count": 134,
   "metadata": {},
   "outputs": [
    {
     "data": {
      "text/html": [
       "<div>\n",
       "<style scoped>\n",
       "    .dataframe tbody tr th:only-of-type {\n",
       "        vertical-align: middle;\n",
       "    }\n",
       "\n",
       "    .dataframe tbody tr th {\n",
       "        vertical-align: top;\n",
       "    }\n",
       "\n",
       "    .dataframe thead th {\n",
       "        text-align: right;\n",
       "    }\n",
       "</style>\n",
       "<table border=\"1\" class=\"dataframe\">\n",
       "  <thead>\n",
       "    <tr style=\"text-align: right;\">\n",
       "      <th></th>\n",
       "      <th>Subject-id</th>\n",
       "      <th>Activity Label</th>\n",
       "      <th>Timestamp</th>\n",
       "      <th>x</th>\n",
       "      <th>y</th>\n",
       "      <th>z</th>\n",
       "    </tr>\n",
       "  </thead>\n",
       "  <tbody>\n",
       "    <tr>\n",
       "      <th>0</th>\n",
       "      <td>1600</td>\n",
       "      <td>walking</td>\n",
       "      <td>2.522077e+14</td>\n",
       "      <td>-0.364761</td>\n",
       "      <td>8.793503</td>\n",
       "      <td>1.055084</td>\n",
       "    </tr>\n",
       "    <tr>\n",
       "      <th>1</th>\n",
       "      <td>1600</td>\n",
       "      <td>walking</td>\n",
       "      <td>2.522077e+14</td>\n",
       "      <td>-0.879730</td>\n",
       "      <td>9.768784</td>\n",
       "      <td>1.016998</td>\n",
       "    </tr>\n",
       "    <tr>\n",
       "      <th>2</th>\n",
       "      <td>1600</td>\n",
       "      <td>walking</td>\n",
       "      <td>2.522078e+14</td>\n",
       "      <td>2.001495</td>\n",
       "      <td>11.109070</td>\n",
       "      <td>2.619156</td>\n",
       "    </tr>\n",
       "    <tr>\n",
       "      <th>3</th>\n",
       "      <td>1600</td>\n",
       "      <td>walking</td>\n",
       "      <td>2.522078e+14</td>\n",
       "      <td>0.450623</td>\n",
       "      <td>12.651642</td>\n",
       "      <td>0.184555</td>\n",
       "    </tr>\n",
       "    <tr>\n",
       "      <th>4</th>\n",
       "      <td>1600</td>\n",
       "      <td>walking</td>\n",
       "      <td>2.522079e+14</td>\n",
       "      <td>-2.164352</td>\n",
       "      <td>13.928436</td>\n",
       "      <td>-4.422485</td>\n",
       "    </tr>\n",
       "  </tbody>\n",
       "</table>\n",
       "</div>"
      ],
      "text/plain": [
       "  Subject-id Activity Label     Timestamp         x          y         z\n",
       "0       1600        walking  2.522077e+14 -0.364761   8.793503  1.055084\n",
       "1       1600        walking  2.522077e+14 -0.879730   9.768784  1.016998\n",
       "2       1600        walking  2.522078e+14  2.001495  11.109070  2.619156\n",
       "3       1600        walking  2.522078e+14  0.450623  12.651642  0.184555\n",
       "4       1600        walking  2.522079e+14 -2.164352  13.928436 -4.422485"
      ]
     },
     "execution_count": 134,
     "metadata": {},
     "output_type": "execute_result"
    }
   ],
   "source": [
    "#replacing pseudo activity labels with actual activity labels\n",
    "data = data.replace({'Activity Label': labels})\n",
    "data.head()"
   ]
  },
  {
   "cell_type": "code",
   "execution_count": 135,
   "metadata": {},
   "outputs": [
    {
     "data": {
      "text/html": [
       "<div>\n",
       "<style scoped>\n",
       "    .dataframe tbody tr th:only-of-type {\n",
       "        vertical-align: middle;\n",
       "    }\n",
       "\n",
       "    .dataframe tbody tr th {\n",
       "        vertical-align: top;\n",
       "    }\n",
       "\n",
       "    .dataframe thead th {\n",
       "        text-align: right;\n",
       "    }\n",
       "</style>\n",
       "<table border=\"1\" class=\"dataframe\">\n",
       "  <thead>\n",
       "    <tr style=\"text-align: right;\">\n",
       "      <th></th>\n",
       "      <th>Subject-id</th>\n",
       "      <th>Activity Label</th>\n",
       "      <th>Timestamp</th>\n",
       "      <th>x</th>\n",
       "      <th>y</th>\n",
       "      <th>z</th>\n",
       "    </tr>\n",
       "  </thead>\n",
       "  <tbody>\n",
       "  </tbody>\n",
       "</table>\n",
       "</div>"
      ],
      "text/plain": [
       "Empty DataFrame\n",
       "Columns: [Subject-id, Activity Label, Timestamp, x, y, z]\n",
       "Index: []"
      ]
     },
     "execution_count": 135,
     "metadata": {},
     "output_type": "execute_result"
    }
   ],
   "source": [
    "#since activity label has just once value as 0 \n",
    "#to remove it lets find the index number of the specific row\n",
    "data.loc[data['Activity Label']== 0]"
   ]
  },
  {
   "cell_type": "code",
   "execution_count": 136,
   "metadata": {},
   "outputs": [],
   "source": [
    "#row number is 4804403 and now we will drop it\n",
    "data = data.drop(4804403)"
   ]
  },
  {
   "cell_type": "markdown",
   "metadata": {},
   "source": [
    "## Data Balancing"
   ]
  },
  {
   "cell_type": "code",
   "execution_count": 137,
   "metadata": {},
   "outputs": [
    {
     "data": {
      "text/plain": [
       "1614    247195\n",
       "1603    163040\n",
       "1613    162884\n",
       "1601    162650\n",
       "1605    162462\n",
       "1641    160798\n",
       "1646    160792\n",
       "1648    160791\n",
       "1645    160783\n",
       "1608    160772\n",
       "1644    160771\n",
       "1627    155101\n",
       "1616    154571\n",
       "1607    153391\n",
       "1643    151834\n",
       "1602    149176\n",
       "1610    145114\n",
       "1619    145004\n",
       "1642    142929\n",
       "1629    139346\n",
       "1635    128852\n",
       "1615    128563\n",
       "1611    128561\n",
       "1600    128558\n",
       "1612    128558\n",
       "1606    128558\n",
       "1604    128557\n",
       "1617    128551\n",
       "1609    122285\n",
       "1618    121453\n",
       "1625    114850\n",
       "1620    111026\n",
       "1628    108362\n",
       "1623     91143\n",
       "1633     85955\n",
       "1650     85811\n",
       "1649     81975\n",
       "1647     81887\n",
       "1621     81688\n",
       "1626     75034\n",
       "1650     74968\n",
       "1640     64845\n",
       "1639     64840\n",
       "1638     64830\n",
       "1637     64801\n",
       "1631     64315\n",
       "1634     64309\n",
       "1636     64308\n",
       "1622     64308\n",
       "1632     64306\n",
       "1624     64302\n",
       "1630     64298\n",
       "Name: Subject-id, dtype: int64"
      ]
     },
     "execution_count": 137,
     "metadata": {},
     "output_type": "execute_result"
    }
   ],
   "source": [
    "data['Subject-id'].value_counts().min()\n",
    "data['Subject-id'].value_counts()"
   ]
  },
  {
   "cell_type": "code",
   "execution_count": 138,
   "metadata": {},
   "outputs": [
    {
     "data": {
      "text/plain": [
       "array([1600, 1601, 1602, 1603, 1604, 1605, 1606, 1607, 1608, 1609, 1610,\n",
       "       1611, 1612, 1613, 1614, 1615, 1616, 1617, 1618, 1619, 1620, 1621,\n",
       "       1622, 1623, 1624, 1625, 1626, 1627, 1628, 1629, 1630, 1631, 1632,\n",
       "       1633, 1634, 1635, 1636, 1637, 1638, 1639, 1640, 1641, 1642, 1643,\n",
       "       1644, 1645, 1646, 1647, 1648, 1649, 1650, '1650'], dtype=object)"
      ]
     },
     "execution_count": 138,
     "metadata": {},
     "output_type": "execute_result"
    }
   ],
   "source": [
    "data['Subject-id'].unique()"
   ]
  },
  {
   "cell_type": "code",
   "execution_count": 139,
   "metadata": {},
   "outputs": [],
   "source": [
    "a = data[data['Subject-id']== 1600].head(64298).copy()\n",
    "b = data[data['Subject-id']== 1601].head(64298).copy()\n",
    "c = data[data['Subject-id']== 1602].head(64298).copy()\n",
    "d = data[data['Subject-id']== 1603].head(64298).copy()\n",
    "e = data[data['Subject-id']== 1604].head(64298).copy()\n",
    "f = data[data['Subject-id']== 1605].head(64298).copy()\n",
    "g = data[data['Subject-id']== 1606].head(64298).copy()\n",
    "h = data[data['Subject-id']== 1607].head(64298).copy()\n",
    "i = data[data['Subject-id']== 1608].head(64298).copy()\n",
    "j = data[data['Subject-id']== 1609].head(64298).copy()\n",
    "k = data[data['Subject-id']== 1610].head(64298).copy()\n",
    "l = data[data['Subject-id']== 1611].head(64298).copy()\n",
    "m = data[data['Subject-id']== 1612].head(64298).copy()\n",
    "n = data[data['Subject-id']== 1613].head(64298).copy()\n",
    "o = data[data['Subject-id']== 1614].head(64298).copy()\n",
    "p = data[data['Subject-id']== 1615].head(64298).copy()\n",
    "q = data[data['Subject-id']== 1616].head(64298).copy()\n",
    "r = data[data['Subject-id']== 1617].head(64298).copy()\n",
    "s = data[data['Subject-id']== 1618].head(64298).copy()\n",
    "t = data[data['Subject-id']== 1619].head(64298).copy()\n",
    "u = data[data['Subject-id']== 1620].head(64298).copy()\n",
    "v = data[data['Subject-id']== 1621].head(64298).copy()\n",
    "w = data[data['Subject-id']== 1622].head(64298).copy()\n",
    "x = data[data['Subject-id']== 1623].head(64298).copy()\n",
    "y = data[data['Subject-id']== 1624].head(64298).copy()\n",
    "z = data[data['Subject-id']== 1625].head(64298).copy()\n",
    "aa = data[data['Subject-id']== 1626].head(64298).copy()\n",
    "bb = data[data['Subject-id']== 1627].head(64298).copy()\n",
    "cc = data[data['Subject-id']== 1628].head(64298).copy()\n",
    "dd = data[data['Subject-id']== 1629].head(64298).copy()\n",
    "ee = data[data['Subject-id']== 1630].head(64298).copy()\n",
    "ff = data[data['Subject-id']== 1631].head(64298).copy()\n",
    "gg = data[data['Subject-id']== 1632].head(64298).copy()\n",
    "hh = data[data['Subject-id']== 1633].head(64298).copy()\n",
    "ii = data[data['Subject-id']== 1634].head(64298).copy()\n",
    "jj = data[data['Subject-id']== 1635].head(64298).copy()\n",
    "kk = data[data['Subject-id']== 1636].head(64298).copy()\n",
    "ll = data[data['Subject-id']== 1637].head(64298).copy()\n",
    "mm = data[data['Subject-id']== 1638].head(64298).copy()\n",
    "nn = data[data['Subject-id']== 1639].head(64298).copy()\n",
    "oo = data[data['Subject-id']== 1640].head(64298).copy()\n",
    "pp = data[data['Subject-id']== 1641].head(64298).copy()\n",
    "qq = data[data['Subject-id']== 1642].head(64298).copy()\n",
    "rr = data[data['Subject-id']== 1643].head(64298).copy()\n",
    "ss = data[data['Subject-id']== 1644].head(64298).copy()\n",
    "tt = data[data['Subject-id']== 1645].head(64298).copy()\n",
    "uu = data[data['Subject-id']== 1646].head(64298).copy()\n",
    "vv = data[data['Subject-id']== 1647].head(64298).copy()\n",
    "ww = data[data['Subject-id']== 1648].head(64298).copy()\n",
    "xx = data[data['Subject-id']== 1649].head(64298).copy()\n",
    "yy = data[data['Subject-id']== 1650].head(64298).copy()\n",
    "zz = data[data['Subject-id']== '1650'].head(64298).copy()"
   ]
  },
  {
   "cell_type": "code",
   "execution_count": 140,
   "metadata": {},
   "outputs": [],
   "source": [
    "ddata = pd.DataFrame()"
   ]
  },
  {
   "cell_type": "code",
   "execution_count": 141,
   "metadata": {},
   "outputs": [],
   "source": [
    "ddata = ddata.append([a,b,c,d,e,f,g,h,i,j,k,l,m,n,o,p,q,r,s,t,u,v,w,x,y,z,aa,bb,cc,dd,ee,ff,gg,hh,ii,jj,kk,ll,mm,nn,oo,pp,qq,rr,ss,tt,uu,vv,ww,xx,yy,zz]) "
   ]
  },
  {
   "cell_type": "code",
   "execution_count": 142,
   "metadata": {},
   "outputs": [],
   "source": [
    "ddata['Subject-id'] = ddata['Subject-id'].replace({'1650': 1651})"
   ]
  },
  {
   "cell_type": "code",
   "execution_count": 143,
   "metadata": {},
   "outputs": [
    {
     "data": {
      "text/plain": [
       "walking            282739\n",
       "brushing teeth     266036\n",
       "standing           266031\n",
       "jogging            264836\n",
       "sitting            261020\n",
       "stairs             252072\n",
       "typing             242784\n",
       "drinking soup      206861\n",
       "eating chips       185418\n",
       "drinking           171299\n",
       "kicking            162058\n",
       "eating pasta       160273\n",
       "eating sandwich    158681\n",
       "catch              137690\n",
       "dribbling          101533\n",
       "writing             81555\n",
       "clapping            73332\n",
       "folding             69278\n",
       "Name: Activity Label, dtype: int64"
      ]
     },
     "execution_count": 143,
     "metadata": {},
     "output_type": "execute_result"
    }
   ],
   "source": [
    "ddata['Activity Label'].value_counts()"
   ]
  },
  {
   "cell_type": "code",
   "execution_count": 144,
   "metadata": {},
   "outputs": [],
   "source": [
    "drinking = ddata[ddata['Activity Label']== 'drinking'].head(69278).copy()\n",
    "walking = ddata[ddata['Activity Label']== 'walking'].head(69278).copy()\n",
    "kicking = ddata[ddata['Activity Label']== 'kicking'].head(69278).copy()\n",
    "drinking_soup = ddata[ddata['Activity Label']== 'drinking soup'].head(69278).copy()\n",
    "brushing_teeth = ddata[ddata['Activity Label']== 'brushing teeth'].head(69278).copy()\n",
    "standing = ddata[ddata['Activity Label']== 'standing'].head(69278).copy()\n",
    "catch = ddata[ddata['Activity Label']== 'catch'].head(69278).copy()\n",
    "dribbling = ddata[ddata['Activity Label']== 'dribbling'].head(69278).copy()\n",
    "eating_sandwich = ddata[ddata['Activity Label']== 'eating sandwich'].head(69278).copy()\n",
    "sitting = ddata[ddata['Activity Label']== 'sitting'].head(69278).copy()\n",
    "clapping = ddata[ddata['Activity Label']== 'clapping'].head(69278).copy()\n",
    "eating_chips = ddata[ddata['Activity Label']== 'eating chips'].head(69278).copy()\n",
    "jogging = ddata[ddata['Activity Label']== 'jogging'].head(69278).copy()\n",
    "folding = ddata[ddata['Activity Label']== 'folding'].head(69278).copy()\n",
    "writing = ddata[ddata['Activity Label']== 'writing'].head(69278).copy()\n",
    "stairs = ddata[ddata['Activity Label']== 'stairs'].head(69278).copy()\n",
    "eating_pasta = ddata[ddata['Activity Label']== 'eating pasta'].head(69278).copy()\n",
    "typing = ddata[ddata['Activity Label']== 'typing'].head(69278).copy()"
   ]
  },
  {
   "cell_type": "code",
   "execution_count": 145,
   "metadata": {},
   "outputs": [],
   "source": [
    "bdata = pd.DataFrame()"
   ]
  },
  {
   "cell_type": "code",
   "execution_count": 146,
   "metadata": {},
   "outputs": [],
   "source": [
    "bdata = bdata.append([walking ,jogging ,stairs,sitting,standing,typing,brushing_teeth,drinking_soup,eating_chips,eating_pasta,drinking,eating_sandwich,kicking,catch,dribbling,writing,clapping,folding]) "
   ]
  },
  {
   "cell_type": "code",
   "execution_count": 147,
   "metadata": {},
   "outputs": [],
   "source": [
    "Data = bdata"
   ]
  },
  {
   "cell_type": "code",
   "execution_count": 180,
   "metadata": {},
   "outputs": [],
   "source": [
    "Data.reset_index(drop=True, inplace=True)"
   ]
  },
  {
   "cell_type": "code",
   "execution_count": 181,
   "metadata": {},
   "outputs": [
    {
     "data": {
      "text/plain": [
       "(1247004, 4)"
      ]
     },
     "execution_count": 181,
     "metadata": {},
     "output_type": "execute_result"
    }
   ],
   "source": [
    "Data.shape"
   ]
  },
  {
   "cell_type": "code",
   "execution_count": 150,
   "metadata": {},
   "outputs": [],
   "source": [
    "#data.to_csv('data.csv')"
   ]
  },
  {
   "cell_type": "code",
   "execution_count": 182,
   "metadata": {},
   "outputs": [],
   "source": [
    "from sklearn.model_selection import train_test_split"
   ]
  },
  {
   "cell_type": "code",
   "execution_count": 183,
   "metadata": {},
   "outputs": [
    {
     "data": {
      "text/html": [
       "<div>\n",
       "<style scoped>\n",
       "    .dataframe tbody tr th:only-of-type {\n",
       "        vertical-align: middle;\n",
       "    }\n",
       "\n",
       "    .dataframe tbody tr th {\n",
       "        vertical-align: top;\n",
       "    }\n",
       "\n",
       "    .dataframe thead th {\n",
       "        text-align: right;\n",
       "    }\n",
       "</style>\n",
       "<table border=\"1\" class=\"dataframe\">\n",
       "  <thead>\n",
       "    <tr style=\"text-align: right;\">\n",
       "      <th></th>\n",
       "      <th>Activity Label</th>\n",
       "      <th>x</th>\n",
       "      <th>y</th>\n",
       "      <th>z</th>\n",
       "    </tr>\n",
       "  </thead>\n",
       "  <tbody>\n",
       "    <tr>\n",
       "      <th>0</th>\n",
       "      <td>walking</td>\n",
       "      <td>-0.364761</td>\n",
       "      <td>8.793503</td>\n",
       "      <td>1.055084</td>\n",
       "    </tr>\n",
       "    <tr>\n",
       "      <th>1</th>\n",
       "      <td>walking</td>\n",
       "      <td>-0.879730</td>\n",
       "      <td>9.768784</td>\n",
       "      <td>1.016998</td>\n",
       "    </tr>\n",
       "    <tr>\n",
       "      <th>2</th>\n",
       "      <td>walking</td>\n",
       "      <td>2.001495</td>\n",
       "      <td>11.109070</td>\n",
       "      <td>2.619156</td>\n",
       "    </tr>\n",
       "    <tr>\n",
       "      <th>3</th>\n",
       "      <td>walking</td>\n",
       "      <td>0.450623</td>\n",
       "      <td>12.651642</td>\n",
       "      <td>0.184555</td>\n",
       "    </tr>\n",
       "    <tr>\n",
       "      <th>4</th>\n",
       "      <td>walking</td>\n",
       "      <td>-2.164352</td>\n",
       "      <td>13.928436</td>\n",
       "      <td>-4.422485</td>\n",
       "    </tr>\n",
       "    <tr>\n",
       "      <th>...</th>\n",
       "      <td>...</td>\n",
       "      <td>...</td>\n",
       "      <td>...</td>\n",
       "      <td>...</td>\n",
       "    </tr>\n",
       "    <tr>\n",
       "      <th>3380512</th>\n",
       "      <td>folding</td>\n",
       "      <td>3.679439</td>\n",
       "      <td>-9.209895</td>\n",
       "      <td>-4.233397</td>\n",
       "    </tr>\n",
       "    <tr>\n",
       "      <th>3380513</th>\n",
       "      <td>folding</td>\n",
       "      <td>4.108001</td>\n",
       "      <td>-9.133281</td>\n",
       "      <td>-3.814412</td>\n",
       "    </tr>\n",
       "    <tr>\n",
       "      <th>3380514</th>\n",
       "      <td>folding</td>\n",
       "      <td>4.220529</td>\n",
       "      <td>-8.513183</td>\n",
       "      <td>-3.539079</td>\n",
       "    </tr>\n",
       "    <tr>\n",
       "      <th>3380515</th>\n",
       "      <td>folding</td>\n",
       "      <td>3.732111</td>\n",
       "      <td>-7.641693</td>\n",
       "      <td>-3.136853</td>\n",
       "    </tr>\n",
       "    <tr>\n",
       "      <th>3380516</th>\n",
       "      <td>folding</td>\n",
       "      <td>3.511845</td>\n",
       "      <td>-7.579444</td>\n",
       "      <td>-3.103334</td>\n",
       "    </tr>\n",
       "  </tbody>\n",
       "</table>\n",
       "<p>1247004 rows × 4 columns</p>\n",
       "</div>"
      ],
      "text/plain": [
       "        Activity Label         x          y         z\n",
       "0              walking -0.364761   8.793503  1.055084\n",
       "1              walking -0.879730   9.768784  1.016998\n",
       "2              walking  2.001495  11.109070  2.619156\n",
       "3              walking  0.450623  12.651642  0.184555\n",
       "4              walking -2.164352  13.928436 -4.422485\n",
       "...                ...       ...        ...       ...\n",
       "3380512        folding  3.679439  -9.209895 -4.233397\n",
       "3380513        folding  4.108001  -9.133281 -3.814412\n",
       "3380514        folding  4.220529  -8.513183 -3.539079\n",
       "3380515        folding  3.732111  -7.641693 -3.136853\n",
       "3380516        folding  3.511845  -7.579444 -3.103334\n",
       "\n",
       "[1247004 rows x 4 columns]"
      ]
     },
     "execution_count": 183,
     "metadata": {},
     "output_type": "execute_result"
    }
   ],
   "source": [
    "Data= bdata.drop(['Timestamp','Subject-id'] , axis=1)\n",
    "Data"
   ]
  },
  {
   "cell_type": "code",
   "execution_count": 184,
   "metadata": {},
   "outputs": [
    {
     "data": {
      "text/plain": [
       "0          walking\n",
       "1          walking\n",
       "2          walking\n",
       "3          walking\n",
       "4          walking\n",
       "            ...   \n",
       "3380512    folding\n",
       "3380513    folding\n",
       "3380514    folding\n",
       "3380515    folding\n",
       "3380516    folding\n",
       "Name: Activity Label, Length: 1247004, dtype: object"
      ]
     },
     "execution_count": 184,
     "metadata": {},
     "output_type": "execute_result"
    }
   ],
   "source": [
    "y = Data['Activity Label']\n",
    "y"
   ]
  },
  {
   "cell_type": "code",
   "execution_count": 185,
   "metadata": {},
   "outputs": [
    {
     "data": {
      "text/html": [
       "<div>\n",
       "<style scoped>\n",
       "    .dataframe tbody tr th:only-of-type {\n",
       "        vertical-align: middle;\n",
       "    }\n",
       "\n",
       "    .dataframe tbody tr th {\n",
       "        vertical-align: top;\n",
       "    }\n",
       "\n",
       "    .dataframe thead th {\n",
       "        text-align: right;\n",
       "    }\n",
       "</style>\n",
       "<table border=\"1\" class=\"dataframe\">\n",
       "  <thead>\n",
       "    <tr style=\"text-align: right;\">\n",
       "      <th></th>\n",
       "      <th>x</th>\n",
       "      <th>y</th>\n",
       "      <th>z</th>\n",
       "    </tr>\n",
       "  </thead>\n",
       "  <tbody>\n",
       "    <tr>\n",
       "      <th>0</th>\n",
       "      <td>-0.364761</td>\n",
       "      <td>8.793503</td>\n",
       "      <td>1.055084</td>\n",
       "    </tr>\n",
       "    <tr>\n",
       "      <th>1</th>\n",
       "      <td>-0.879730</td>\n",
       "      <td>9.768784</td>\n",
       "      <td>1.016998</td>\n",
       "    </tr>\n",
       "    <tr>\n",
       "      <th>2</th>\n",
       "      <td>2.001495</td>\n",
       "      <td>11.109070</td>\n",
       "      <td>2.619156</td>\n",
       "    </tr>\n",
       "    <tr>\n",
       "      <th>3</th>\n",
       "      <td>0.450623</td>\n",
       "      <td>12.651642</td>\n",
       "      <td>0.184555</td>\n",
       "    </tr>\n",
       "    <tr>\n",
       "      <th>4</th>\n",
       "      <td>-2.164352</td>\n",
       "      <td>13.928436</td>\n",
       "      <td>-4.422485</td>\n",
       "    </tr>\n",
       "    <tr>\n",
       "      <th>...</th>\n",
       "      <td>...</td>\n",
       "      <td>...</td>\n",
       "      <td>...</td>\n",
       "    </tr>\n",
       "    <tr>\n",
       "      <th>3380512</th>\n",
       "      <td>3.679439</td>\n",
       "      <td>-9.209895</td>\n",
       "      <td>-4.233397</td>\n",
       "    </tr>\n",
       "    <tr>\n",
       "      <th>3380513</th>\n",
       "      <td>4.108001</td>\n",
       "      <td>-9.133281</td>\n",
       "      <td>-3.814412</td>\n",
       "    </tr>\n",
       "    <tr>\n",
       "      <th>3380514</th>\n",
       "      <td>4.220529</td>\n",
       "      <td>-8.513183</td>\n",
       "      <td>-3.539079</td>\n",
       "    </tr>\n",
       "    <tr>\n",
       "      <th>3380515</th>\n",
       "      <td>3.732111</td>\n",
       "      <td>-7.641693</td>\n",
       "      <td>-3.136853</td>\n",
       "    </tr>\n",
       "    <tr>\n",
       "      <th>3380516</th>\n",
       "      <td>3.511845</td>\n",
       "      <td>-7.579444</td>\n",
       "      <td>-3.103334</td>\n",
       "    </tr>\n",
       "  </tbody>\n",
       "</table>\n",
       "<p>1247004 rows × 3 columns</p>\n",
       "</div>"
      ],
      "text/plain": [
       "                x          y         z\n",
       "0       -0.364761   8.793503  1.055084\n",
       "1       -0.879730   9.768784  1.016998\n",
       "2        2.001495  11.109070  2.619156\n",
       "3        0.450623  12.651642  0.184555\n",
       "4       -2.164352  13.928436 -4.422485\n",
       "...           ...        ...       ...\n",
       "3380512  3.679439  -9.209895 -4.233397\n",
       "3380513  4.108001  -9.133281 -3.814412\n",
       "3380514  4.220529  -8.513183 -3.539079\n",
       "3380515  3.732111  -7.641693 -3.136853\n",
       "3380516  3.511845  -7.579444 -3.103334\n",
       "\n",
       "[1247004 rows x 3 columns]"
      ]
     },
     "execution_count": 185,
     "metadata": {},
     "output_type": "execute_result"
    }
   ],
   "source": [
    "X = Data.drop(['Activity Label'],axis=1)\n",
    "X"
   ]
  },
  {
   "cell_type": "code",
   "execution_count": 198,
   "metadata": {},
   "outputs": [],
   "source": [
    "X_train, X_test, y_train, y_test = train_test_split(X, y, test_size=0.33, random_state=42)"
   ]
  },
  {
   "cell_type": "markdown",
   "metadata": {},
   "source": [
    "## Data Segmentation"
   ]
  },
  {
   "cell_type": "code",
   "execution_count": 187,
   "metadata": {},
   "outputs": [],
   "source": [
    "import scipy.stats as stats"
   ]
  },
  {
   "cell_type": "code",
   "execution_count": 188,
   "metadata": {},
   "outputs": [],
   "source": [
    "random_seed = 42   \n",
    "n_time_steps = 50 \n",
    "n_features = 3 \n",
    "step = 10 \n",
    "n_classes = 6 \n",
    "n_epochs = 50       \n",
    "batch_size = 1024   \n",
    "learning_rate = 0.0025\n",
    "l2_loss = 0.0015"
   ]
  },
  {
   "cell_type": "code",
   "execution_count": 189,
   "metadata": {},
   "outputs": [],
   "source": [
    "segments = []\n",
    "labels = []\n",
    "\n",
    "for i in range(0,  bdata.shape[0]- n_time_steps, step):  \n",
    "\n",
    "    xs = Data['x'].values[i: i + 50]\n",
    "\n",
    "    ys = Data['y'].values[i: i + 50]\n",
    "\n",
    "    zs = Data['z'].values[i: i + 50]\n",
    "\n",
    "    label = stats.mode(Data['Activity Label'][i: i + 50])[0][0]\n",
    "\n",
    "    segments.append([xs, ys, zs])\n",
    "\n",
    "    labels.append(label)\n",
    "\n",
    "#reshape the segments which is (list of arrays) to a list\n",
    "reshaped_segments = np.asarray(segments, dtype= np.float32).reshape(-1, n_time_steps, n_features)\n",
    "\n",
    "labels = np.asarray(pd.get_dummies(labels), dtype = np.float32)"
   ]
  },
  {
   "cell_type": "code",
   "execution_count": 190,
   "metadata": {},
   "outputs": [
    {
     "data": {
      "text/plain": [
       "array([[0., 0., 0., ..., 0., 1., 0.],\n",
       "       [0., 0., 0., ..., 0., 1., 0.],\n",
       "       [0., 0., 0., ..., 0., 1., 0.],\n",
       "       ...,\n",
       "       [0., 0., 0., ..., 0., 0., 0.],\n",
       "       [0., 0., 0., ..., 0., 0., 0.],\n",
       "       [0., 0., 0., ..., 0., 0., 0.]], dtype=float32)"
      ]
     },
     "execution_count": 190,
     "metadata": {},
     "output_type": "execute_result"
    }
   ],
   "source": [
    "labels"
   ]
  },
  {
   "cell_type": "code",
   "execution_count": 191,
   "metadata": {},
   "outputs": [
    {
     "data": {
      "text/plain": [
       "array([[[-3.6476135e-01, -8.7973022e-01,  2.0014954e+00],\n",
       "        [ 4.5062256e-01, -2.1643524e+00, -4.3327789e+00],\n",
       "        [-3.1944275e-01,  1.5664520e+00, -3.2374573e-01],\n",
       "        ...,\n",
       "        [ 5.0408936e-01,  2.7651062e+00,  2.9900513e+00],\n",
       "        [-2.6391144e+00, -4.0735626e+00, -2.7114868e-01],\n",
       "        [-5.8065796e-01, -1.3917542e-01,  5.7388306e-02]],\n",
       "\n",
       "       [[-1.1340485e+00,  9.2910767e-02, -1.0363159e+00],\n",
       "        [ 7.5230408e-01, -4.9697876e-01, -2.3593750e+00],\n",
       "        [ 5.8016968e-01, -2.8121796e+00, -1.8853912e+00],\n",
       "        ...,\n",
       "        [ 2.8281097e+00,  3.5662689e+00,  3.3124084e+00],\n",
       "        [-3.2084351e+00, -1.2915192e+00,  4.5887756e-01],\n",
       "        [ 1.6313171e-01,  4.1433716e-01, -3.5966492e-01]],\n",
       "\n",
       "       [[ 4.8217773e-03, -4.0156555e-01, -1.3717194e+00],\n",
       "        [ 3.6513977e+00,  1.6511078e+00, -6.4922638e+00],\n",
       "        [-2.3653412e+00,  5.6820679e-01,  1.4088440e-01],\n",
       "        ...,\n",
       "        [ 1.8944855e+00,  3.8279877e+00, -3.0545044e-01],\n",
       "        [-4.9357300e+00, -2.5863495e+00, -5.0730896e-01],\n",
       "        [-3.0502319e-01, -7.4923706e-01,  1.5597534e-01]],\n",
       "\n",
       "       ...,\n",
       "\n",
       "       [[-9.8454065e+00, -1.0065673e+01, -8.3418474e+00],\n",
       "        [-7.2620625e+00, -6.4671879e+00, -4.7385740e+00],\n",
       "        [-3.1943140e+00, -3.1679778e+00, -4.9636292e+00],\n",
       "        ...,\n",
       "        [-4.8558898e+00, -1.5806221e+00, -1.2957120e+00],\n",
       "        [-1.0025719e-02, -2.5335143e+00, -1.8152539e+00],\n",
       "        [-1.5255554e+00, -2.6029460e+00, -2.4281695e+00]],\n",
       "\n",
       "       [[-8.0329952e+00, -5.9859533e+00, -2.0857985e+00],\n",
       "        [ 7.3066545e+00,  1.0153360e+01,  4.3330560e+00],\n",
       "        [ 4.0417117e-01, -9.1263974e-01, -1.1329063e+00],\n",
       "        ...,\n",
       "        [-1.8344074e+00, -2.2310968e-01, -1.9182044e+00],\n",
       "        [ 4.3529579e-01, -6.9716161e-01,  3.1558570e-01],\n",
       "        [-8.9034379e-02,  9.7713359e-02, -4.8886606e-01]],\n",
       "\n",
       "       [[ 5.1590557e+00,  6.7751417e+00,  7.9818196e+00],\n",
       "        [ 8.1135006e+00,  8.3194017e+00,  7.4838257e+00],\n",
       "        [ 6.5931826e+00,  3.3490393e+00,  3.0018799e+00],\n",
       "        ...,\n",
       "        [-1.3435961e+00, -2.0211551e+00, -3.2421980e+00],\n",
       "        [-3.1033344e+00, -3.4576762e+00, -3.8694789e+00],\n",
       "        [-4.4823947e+00, -4.4776063e+00, -4.2333975e+00]]], dtype=float32)"
      ]
     },
     "execution_count": 191,
     "metadata": {},
     "output_type": "execute_result"
    }
   ],
   "source": [
    "reshaped_segments"
   ]
  },
  {
   "cell_type": "markdown",
   "metadata": {},
   "source": [
    "## Define the Model"
   ]
  },
  {
   "cell_type": "code",
   "execution_count": 192,
   "metadata": {},
   "outputs": [],
   "source": [
    "class HARModel(nn.Module):\n",
    "    \n",
    "    def __init__(self, n_hidden=128, n_layers=1, n_filters=64, \n",
    "                 n_classes=18, filter_size=5, drop_prob=0.5):\n",
    "        super(HARModel, self).__init__()\n",
    "        self.drop_prob = drop_prob\n",
    "        self.n_layers = n_layers\n",
    "        self.n_hidden = n_hidden\n",
    "        self.n_filters = n_filters\n",
    "        self.n_classes = n_classes\n",
    "        self.filter_size = filter_size\n",
    "             \n",
    "        self.conv1 = nn.Conv1d(NB_SENSOR_CHANNELS, n_filters, filter_size)\n",
    "        self.conv2 = nn.Conv1d(n_filters, n_filters, filter_size)\n",
    "        self.conv3 = nn.Conv1d(n_filters, n_filters, filter_size)\n",
    "        self.conv4 = nn.Conv1d(n_filters, n_filters, filter_size)\n",
    "        \n",
    "        self.lstm1  = nn.LSTM(n_filters, n_hidden, n_layers)\n",
    "        self.lstm2  = nn.LSTM(n_hidden, n_hidden, n_layers)\n",
    "        \n",
    "        self.fc = nn.Linear(n_hidden, n_classes)\n",
    "\n",
    "        self.dropout = nn.Dropout(drop_prob)\n",
    "    \n",
    "    def forward(self, x, hidden, batch_size):\n",
    "        \n",
    "        x = x.view(-1, NB_SENSOR_CHANNELS, SLIDING_WINDOW_LENGTH)\n",
    "        x = F.relu(self.conv1(x))\n",
    "        x = F.relu(self.conv2(x))\n",
    "        x = F.relu(self.conv3(x))\n",
    "        x = F.relu(self.conv4(x))\n",
    "        \n",
    "        x = x.view(8, -1, self.n_filters)\n",
    "        x, hidden = self.lstm1(x, hidden)\n",
    "        x, hidden = self.lstm2(x, hidden)\n",
    "        \n",
    "        x = x.contiguous().view(-1, self.n_hidden)\n",
    "        x = self.dropout(x)\n",
    "        x = self.fc(x)\n",
    "        \n",
    "        out = x.view(batch_size, -1, self.n_classes)[:,-1,:]\n",
    "        \n",
    "        return out, hidden\n",
    "    \n",
    "    def init_hidden(self, batch_size):\n",
    "        ''' Initializes hidden state '''\n",
    "        # Create two new tensors with sizes n_layers x batch_size x n_hidden,\n",
    "        # initialized to zero, for hidden state and cell state of LSTM\n",
    "        weight = next(self.parameters()).data\n",
    "        \n",
    "        if (train_on_gpu):\n",
    "            hidden = (weight.new(self.n_layers, batch_size, self.n_hidden).zero_().cuda(),\n",
    "                  weight.new(self.n_layers, batch_size, self.n_hidden).zero_().cuda())\n",
    "        else:\n",
    "            hidden = (weight.new(self.n_layers, batch_size, self.n_hidden).zero_(),\n",
    "                      weight.new(self.n_layers, batch_size, self.n_hidden).zero_())\n",
    "        \n",
    "        return hidden\n",
    "    \n",
    "net = HARModel()"
   ]
  },
  {
   "cell_type": "markdown",
   "metadata": {},
   "source": [
    "## Initialize Model Weights"
   ]
  },
  {
   "cell_type": "code",
   "execution_count": 193,
   "metadata": {},
   "outputs": [
    {
     "data": {
      "text/plain": [
       "HARModel(\n",
       "  (conv1): Conv1d(113, 64, kernel_size=(5,), stride=(1,))\n",
       "  (conv2): Conv1d(64, 64, kernel_size=(5,), stride=(1,))\n",
       "  (conv3): Conv1d(64, 64, kernel_size=(5,), stride=(1,))\n",
       "  (conv4): Conv1d(64, 64, kernel_size=(5,), stride=(1,))\n",
       "  (lstm1): LSTM(64, 128)\n",
       "  (lstm2): LSTM(128, 128)\n",
       "  (fc): Linear(in_features=128, out_features=18, bias=True)\n",
       "  (dropout): Dropout(p=0.5, inplace=False)\n",
       ")"
      ]
     },
     "execution_count": 193,
     "metadata": {},
     "output_type": "execute_result"
    }
   ],
   "source": [
    "def init_weights(m):\n",
    "    if type(m) == nn.LSTM:\n",
    "        for name, param in m.named_parameters():\n",
    "            if 'weight_ih' in name:\n",
    "                torch.nn.init.orthogonal_(param.data)\n",
    "            elif 'weight_hh' in name:\n",
    "                torch.nn.init.orthogonal_(param.data)\n",
    "            elif 'bias' in name:\n",
    "                param.data.fill_(0)\n",
    "    elif type(m) == nn.Conv1d or type(m) == nn.Linear:\n",
    "        torch.nn.init.orthogonal_(m.weight)\n",
    "        m.bias.data.fill_(0)\n",
    "net.apply(init_weights)    "
   ]
  },
  {
   "cell_type": "markdown",
   "metadata": {},
   "source": [
    "## Generate Minibatches"
   ]
  },
  {
   "cell_type": "code",
   "execution_count": 194,
   "metadata": {},
   "outputs": [],
   "source": [
    "def iterate_minibatches(inputs, targets, batchsize, shuffle=True):\n",
    "    assert len(inputs) == len(targets)\n",
    "    if shuffle:\n",
    "        indices = np.arange(len(inputs))\n",
    "        np.random.shuffle(indices)\n",
    "    for start_idx in range(0, len(inputs) - batchsize + 1, batchsize):\n",
    "        if shuffle:\n",
    "            excerpt = indices[start_idx:start_idx + batchsize]\n",
    "        else:\n",
    "            excerpt = slice(start_idx, start_idx + batchsize)\n",
    "        yield inputs[excerpt], targets[excerpt]"
   ]
  },
  {
   "cell_type": "code",
   "execution_count": 195,
   "metadata": {},
   "outputs": [
    {
     "name": "stdout",
     "output_type": "stream",
     "text": [
      "No GPU available, training on CPU; consider making n_epochs very small.\n"
     ]
    }
   ],
   "source": [
    "## check if GPU is available\n",
    "train_on_gpu = torch.cuda.is_available()\n",
    "if(train_on_gpu):\n",
    "    print('Training on GPU!')\n",
    "else: \n",
    "    print('No GPU available, training on CPU; consider making n_epochs very small.')"
   ]
  },
  {
   "cell_type": "markdown",
   "metadata": {},
   "source": [
    "## Train the Network"
   ]
  },
  {
   "cell_type": "code",
   "execution_count": 196,
   "metadata": {},
   "outputs": [
    {
     "ename": "KeyError",
     "evalue": "\"None of [Int64Index([541300, 665714, 596153, 269484, 781492, 709092,  65928, 423523,\\n             95725, 318299, 275277, 345542, 623713, 618570, 396130, 492441,\\n            391456, 253885, 537732, 261501, 159042, 582063, 247359, 613039,\\n            443696, 671618, 161233, 765929, 523276, 790445, 764658, 153161,\\n            375981, 459050,  91635, 246508, 234163, 160458, 229034, 567871,\\n            231894,    257, 398047,   8979, 594795, 143192, 626245, 513200,\\n            153569, 352226, 306919, 114347, 302379, 547098, 745500, 158653,\\n            356962, 320366, 184229, 518690,  91714, 288411, 759643, 291142,\\n            615565, 769738, 377911, 828861, 347995, 747562, 781863, 692703,\\n            309511, 700795,  94666, 525877,  15934, 420848,   2295, 408891,\\n            158779, 561595, 768670, 578219, 445315, 796844, 648678, 496246,\\n            121700, 363227, 441369, 691831, 729032, 176023, 140032, 652048,\\n            261808,  51559, 736741, 477735],\\n           dtype='int64')] are in the [columns]\"",
     "output_type": "error",
     "traceback": [
      "\u001b[1;31m---------------------------------------------------------------------------\u001b[0m",
      "\u001b[1;31mKeyError\u001b[0m                                  Traceback (most recent call last)",
      "\u001b[1;32m<ipython-input-196-9c574dc76081>\u001b[0m in \u001b[0;36m<module>\u001b[1;34m\u001b[0m\n\u001b[0;32m     70\u001b[0m         \"F1-Score: {:.4f}...\".format(f1score/(len(X_test)//batch_size)))\n\u001b[0;32m     71\u001b[0m \u001b[1;33m\u001b[0m\u001b[0m\n\u001b[1;32m---> 72\u001b[1;33m \u001b[0mtrain\u001b[0m\u001b[1;33m(\u001b[0m\u001b[0mnet\u001b[0m\u001b[1;33m)\u001b[0m\u001b[1;33m\u001b[0m\u001b[1;33m\u001b[0m\u001b[0m\n\u001b[0m",
      "\u001b[1;32m<ipython-input-196-9c574dc76081>\u001b[0m in \u001b[0;36mtrain\u001b[1;34m(net, epochs, batch_size, lr)\u001b[0m\n\u001b[0;32m     13\u001b[0m         \u001b[0mtrain_losses\u001b[0m \u001b[1;33m=\u001b[0m \u001b[1;33m[\u001b[0m\u001b[1;33m]\u001b[0m\u001b[1;33m\u001b[0m\u001b[1;33m\u001b[0m\u001b[0m\n\u001b[0;32m     14\u001b[0m         \u001b[0mnet\u001b[0m\u001b[1;33m.\u001b[0m\u001b[0mtrain\u001b[0m\u001b[1;33m(\u001b[0m\u001b[1;33m)\u001b[0m\u001b[1;33m\u001b[0m\u001b[1;33m\u001b[0m\u001b[0m\n\u001b[1;32m---> 15\u001b[1;33m         \u001b[1;32mfor\u001b[0m \u001b[0mbatch\u001b[0m \u001b[1;32min\u001b[0m \u001b[0miterate_minibatches\u001b[0m\u001b[1;33m(\u001b[0m\u001b[0mX_train\u001b[0m\u001b[1;33m,\u001b[0m \u001b[0my_train\u001b[0m\u001b[1;33m,\u001b[0m \u001b[0mbatch_size\u001b[0m\u001b[1;33m)\u001b[0m\u001b[1;33m:\u001b[0m\u001b[1;33m\u001b[0m\u001b[1;33m\u001b[0m\u001b[0m\n\u001b[0m\u001b[0;32m     16\u001b[0m             \u001b[0mx\u001b[0m\u001b[1;33m,\u001b[0m \u001b[0my\u001b[0m \u001b[1;33m=\u001b[0m \u001b[0mbatch\u001b[0m\u001b[1;33m\u001b[0m\u001b[1;33m\u001b[0m\u001b[0m\n\u001b[0;32m     17\u001b[0m \u001b[1;33m\u001b[0m\u001b[0m\n",
      "\u001b[1;32m<ipython-input-194-4839ceb32a55>\u001b[0m in \u001b[0;36miterate_minibatches\u001b[1;34m(inputs, targets, batchsize, shuffle)\u001b[0m\n\u001b[0;32m      9\u001b[0m         \u001b[1;32melse\u001b[0m\u001b[1;33m:\u001b[0m\u001b[1;33m\u001b[0m\u001b[1;33m\u001b[0m\u001b[0m\n\u001b[0;32m     10\u001b[0m             \u001b[0mexcerpt\u001b[0m \u001b[1;33m=\u001b[0m \u001b[0mslice\u001b[0m\u001b[1;33m(\u001b[0m\u001b[0mstart_idx\u001b[0m\u001b[1;33m,\u001b[0m \u001b[0mstart_idx\u001b[0m \u001b[1;33m+\u001b[0m \u001b[0mbatchsize\u001b[0m\u001b[1;33m)\u001b[0m\u001b[1;33m\u001b[0m\u001b[1;33m\u001b[0m\u001b[0m\n\u001b[1;32m---> 11\u001b[1;33m         \u001b[1;32myield\u001b[0m \u001b[0minputs\u001b[0m\u001b[1;33m[\u001b[0m\u001b[0mexcerpt\u001b[0m\u001b[1;33m]\u001b[0m\u001b[1;33m,\u001b[0m \u001b[0mtargets\u001b[0m\u001b[1;33m[\u001b[0m\u001b[0mexcerpt\u001b[0m\u001b[1;33m]\u001b[0m\u001b[1;33m\u001b[0m\u001b[1;33m\u001b[0m\u001b[0m\n\u001b[0m",
      "\u001b[1;32m~\\anaconda3\\lib\\site-packages\\pandas\\core\\frame.py\u001b[0m in \u001b[0;36m__getitem__\u001b[1;34m(self, key)\u001b[0m\n\u001b[0;32m   3028\u001b[0m             \u001b[1;32mif\u001b[0m \u001b[0mis_iterator\u001b[0m\u001b[1;33m(\u001b[0m\u001b[0mkey\u001b[0m\u001b[1;33m)\u001b[0m\u001b[1;33m:\u001b[0m\u001b[1;33m\u001b[0m\u001b[1;33m\u001b[0m\u001b[0m\n\u001b[0;32m   3029\u001b[0m                 \u001b[0mkey\u001b[0m \u001b[1;33m=\u001b[0m \u001b[0mlist\u001b[0m\u001b[1;33m(\u001b[0m\u001b[0mkey\u001b[0m\u001b[1;33m)\u001b[0m\u001b[1;33m\u001b[0m\u001b[1;33m\u001b[0m\u001b[0m\n\u001b[1;32m-> 3030\u001b[1;33m             \u001b[0mindexer\u001b[0m \u001b[1;33m=\u001b[0m \u001b[0mself\u001b[0m\u001b[1;33m.\u001b[0m\u001b[0mloc\u001b[0m\u001b[1;33m.\u001b[0m\u001b[0m_get_listlike_indexer\u001b[0m\u001b[1;33m(\u001b[0m\u001b[0mkey\u001b[0m\u001b[1;33m,\u001b[0m \u001b[0maxis\u001b[0m\u001b[1;33m=\u001b[0m\u001b[1;36m1\u001b[0m\u001b[1;33m,\u001b[0m \u001b[0mraise_missing\u001b[0m\u001b[1;33m=\u001b[0m\u001b[1;32mTrue\u001b[0m\u001b[1;33m)\u001b[0m\u001b[1;33m[\u001b[0m\u001b[1;36m1\u001b[0m\u001b[1;33m]\u001b[0m\u001b[1;33m\u001b[0m\u001b[1;33m\u001b[0m\u001b[0m\n\u001b[0m\u001b[0;32m   3031\u001b[0m \u001b[1;33m\u001b[0m\u001b[0m\n\u001b[0;32m   3032\u001b[0m         \u001b[1;31m# take() does not accept boolean indexers\u001b[0m\u001b[1;33m\u001b[0m\u001b[1;33m\u001b[0m\u001b[1;33m\u001b[0m\u001b[0m\n",
      "\u001b[1;32m~\\anaconda3\\lib\\site-packages\\pandas\\core\\indexing.py\u001b[0m in \u001b[0;36m_get_listlike_indexer\u001b[1;34m(self, key, axis, raise_missing)\u001b[0m\n\u001b[0;32m   1264\u001b[0m             \u001b[0mkeyarr\u001b[0m\u001b[1;33m,\u001b[0m \u001b[0mindexer\u001b[0m\u001b[1;33m,\u001b[0m \u001b[0mnew_indexer\u001b[0m \u001b[1;33m=\u001b[0m \u001b[0max\u001b[0m\u001b[1;33m.\u001b[0m\u001b[0m_reindex_non_unique\u001b[0m\u001b[1;33m(\u001b[0m\u001b[0mkeyarr\u001b[0m\u001b[1;33m)\u001b[0m\u001b[1;33m\u001b[0m\u001b[1;33m\u001b[0m\u001b[0m\n\u001b[0;32m   1265\u001b[0m \u001b[1;33m\u001b[0m\u001b[0m\n\u001b[1;32m-> 1266\u001b[1;33m         \u001b[0mself\u001b[0m\u001b[1;33m.\u001b[0m\u001b[0m_validate_read_indexer\u001b[0m\u001b[1;33m(\u001b[0m\u001b[0mkeyarr\u001b[0m\u001b[1;33m,\u001b[0m \u001b[0mindexer\u001b[0m\u001b[1;33m,\u001b[0m \u001b[0maxis\u001b[0m\u001b[1;33m,\u001b[0m \u001b[0mraise_missing\u001b[0m\u001b[1;33m=\u001b[0m\u001b[0mraise_missing\u001b[0m\u001b[1;33m)\u001b[0m\u001b[1;33m\u001b[0m\u001b[1;33m\u001b[0m\u001b[0m\n\u001b[0m\u001b[0;32m   1267\u001b[0m         \u001b[1;32mreturn\u001b[0m \u001b[0mkeyarr\u001b[0m\u001b[1;33m,\u001b[0m \u001b[0mindexer\u001b[0m\u001b[1;33m\u001b[0m\u001b[1;33m\u001b[0m\u001b[0m\n\u001b[0;32m   1268\u001b[0m \u001b[1;33m\u001b[0m\u001b[0m\n",
      "\u001b[1;32m~\\anaconda3\\lib\\site-packages\\pandas\\core\\indexing.py\u001b[0m in \u001b[0;36m_validate_read_indexer\u001b[1;34m(self, key, indexer, axis, raise_missing)\u001b[0m\n\u001b[0;32m   1306\u001b[0m             \u001b[1;32mif\u001b[0m \u001b[0mmissing\u001b[0m \u001b[1;33m==\u001b[0m \u001b[0mlen\u001b[0m\u001b[1;33m(\u001b[0m\u001b[0mindexer\u001b[0m\u001b[1;33m)\u001b[0m\u001b[1;33m:\u001b[0m\u001b[1;33m\u001b[0m\u001b[1;33m\u001b[0m\u001b[0m\n\u001b[0;32m   1307\u001b[0m                 \u001b[0maxis_name\u001b[0m \u001b[1;33m=\u001b[0m \u001b[0mself\u001b[0m\u001b[1;33m.\u001b[0m\u001b[0mobj\u001b[0m\u001b[1;33m.\u001b[0m\u001b[0m_get_axis_name\u001b[0m\u001b[1;33m(\u001b[0m\u001b[0maxis\u001b[0m\u001b[1;33m)\u001b[0m\u001b[1;33m\u001b[0m\u001b[1;33m\u001b[0m\u001b[0m\n\u001b[1;32m-> 1308\u001b[1;33m                 \u001b[1;32mraise\u001b[0m \u001b[0mKeyError\u001b[0m\u001b[1;33m(\u001b[0m\u001b[1;34mf\"None of [{key}] are in the [{axis_name}]\"\u001b[0m\u001b[1;33m)\u001b[0m\u001b[1;33m\u001b[0m\u001b[1;33m\u001b[0m\u001b[0m\n\u001b[0m\u001b[0;32m   1309\u001b[0m \u001b[1;33m\u001b[0m\u001b[0m\n\u001b[0;32m   1310\u001b[0m             \u001b[0max\u001b[0m \u001b[1;33m=\u001b[0m \u001b[0mself\u001b[0m\u001b[1;33m.\u001b[0m\u001b[0mobj\u001b[0m\u001b[1;33m.\u001b[0m\u001b[0m_get_axis\u001b[0m\u001b[1;33m(\u001b[0m\u001b[0maxis\u001b[0m\u001b[1;33m)\u001b[0m\u001b[1;33m\u001b[0m\u001b[1;33m\u001b[0m\u001b[0m\n",
      "\u001b[1;31mKeyError\u001b[0m: \"None of [Int64Index([541300, 665714, 596153, 269484, 781492, 709092,  65928, 423523,\\n             95725, 318299, 275277, 345542, 623713, 618570, 396130, 492441,\\n            391456, 253885, 537732, 261501, 159042, 582063, 247359, 613039,\\n            443696, 671618, 161233, 765929, 523276, 790445, 764658, 153161,\\n            375981, 459050,  91635, 246508, 234163, 160458, 229034, 567871,\\n            231894,    257, 398047,   8979, 594795, 143192, 626245, 513200,\\n            153569, 352226, 306919, 114347, 302379, 547098, 745500, 158653,\\n            356962, 320366, 184229, 518690,  91714, 288411, 759643, 291142,\\n            615565, 769738, 377911, 828861, 347995, 747562, 781863, 692703,\\n            309511, 700795,  94666, 525877,  15934, 420848,   2295, 408891,\\n            158779, 561595, 768670, 578219, 445315, 796844, 648678, 496246,\\n            121700, 363227, 441369, 691831, 729032, 176023, 140032, 652048,\\n            261808,  51559, 736741, 477735],\\n           dtype='int64')] are in the [columns]\""
     ]
    }
   ],
   "source": [
    "def train(net, epochs=10, batch_size=100, lr=0.01):\n",
    "    \n",
    "    opt = torch.optim.SGD(net.parameters(), lr=lr, momentum=0.9, weight_decay=1e-4)\n",
    "    criterion = nn.CrossEntropyLoss()\n",
    "    \n",
    "    if(train_on_gpu):\n",
    "        net.cuda()\n",
    "     \n",
    "    for e in range(epochs):\n",
    "        \n",
    "        # initialize hidden state\n",
    "        h = net.init_hidden(batch_size)         \n",
    "        train_losses = []    \n",
    "        net.train()\n",
    "        for batch in iterate_minibatches(X_train, y_train, batch_size):\n",
    "            x, y = batch\n",
    "\n",
    "            inputs, targets = torch.from_numpy(x), torch.from_numpy(y)\n",
    "\n",
    "            if(train_on_gpu):\n",
    "                    inputs, targets = inputs.cuda(), targets.cuda()\n",
    "\n",
    "            # Creating new variables for the hidden state, otherwise\n",
    "            # we'd backprop through the entire training history\n",
    "            h = tuple([each.data for each in h])\n",
    "            \n",
    "            # zero accumulated gradients\n",
    "            opt.zero_grad()   \n",
    "            \n",
    "            # get the output from the model\n",
    "            output, h = net(inputs, h, batch_size)\n",
    "            \n",
    "            loss = criterion(output, targets.long())\n",
    "            train_losses.append(loss.item())\n",
    "            loss.backward()\n",
    "            opt.step()\n",
    "            \n",
    "        val_h = net.init_hidden(batch_size)\n",
    "        val_losses = []\n",
    "        accuracy=0\n",
    "        f1score=0\n",
    "        net.eval()\n",
    "        with torch.no_grad():\n",
    "            for batch in iterate_minibatches(X_test, y_test, batch_size):\n",
    "                x, y = batch     \n",
    "\n",
    "                inputs, targets = torch.from_numpy(x), torch.from_numpy(y)\n",
    "\n",
    "                val_h = tuple([each.data for each in val_h])\n",
    "\n",
    "                if(train_on_gpu):\n",
    "                    inputs, targets = inputs.cuda(), targets.cuda()\n",
    "                    \n",
    "                output, val_h= net(inputs, val_h, batch_size)\n",
    "\n",
    "                val_loss = criterion(output, targets.long())\n",
    "                val_losses.append(val_loss.item())\n",
    "\n",
    "                top_p, top_class = output.topk(1, dim=1)\n",
    "                equals = top_class == targets.view(*top_class.shape).long()\n",
    "                accuracy += torch.mean(equals.type(torch.FloatTensor))\n",
    "                f1score += metrics.f1_score(top_class.cpu(), targets.view(*top_class.shape).long().cpu(), average='weighted')\n",
    "            \n",
    "        net.train() # reset to train mode after iterationg through validation data\n",
    "                \n",
    "        print(\"Epoch: {}/{}...\".format(e+1, epochs),\n",
    "        \"Train Loss: {:.4f}...\".format(np.mean(train_losses)),\n",
    "        \"Val Loss: {:.4f}...\".format(np.mean(val_losses)),\n",
    "        \"Val Acc: {:.4f}...\".format(accuracy/(len(X_test)//batch_size)),\n",
    "        \"F1-Score: {:.4f}...\".format(f1score/(len(X_test)//batch_size)))\n",
    "\n",
    "train(net)"
   ]
  }
 ],
 "metadata": {
  "kernelspec": {
   "display_name": "Python 3",
   "language": "python",
   "name": "python3"
  },
  "language_info": {
   "codemirror_mode": {
    "name": "ipython",
    "version": 3
   },
   "file_extension": ".py",
   "mimetype": "text/x-python",
   "name": "python",
   "nbconvert_exporter": "python",
   "pygments_lexer": "ipython3",
   "version": "3.8.8"
  }
 },
 "nbformat": 4,
 "nbformat_minor": 2
}
